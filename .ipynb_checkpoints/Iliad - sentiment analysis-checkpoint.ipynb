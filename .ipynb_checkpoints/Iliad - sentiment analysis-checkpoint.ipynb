{
 "cells": [
  {
   "cell_type": "markdown",
   "id": "b4951683",
   "metadata": {},
   "source": [
    "# Setup"
   ]
  },
  {
   "cell_type": "code",
   "execution_count": 1,
   "id": "2ab25c1a",
   "metadata": {
    "executionInfo": {
     "elapsed": 430,
     "status": "ok",
     "timestamp": 1674837333630,
     "user": {
      "displayName": "Rafael Oleques Nunes",
      "userId": "05604873930049794921"
     },
     "user_tz": 180
    },
    "id": "2ab25c1a"
   },
   "outputs": [],
   "source": [
    "import pandas as pd\n",
    "import matplotlib.pyplot as plt # para visualização de informações"
   ]
  },
  {
   "cell_type": "markdown",
   "id": "bff4d117",
   "metadata": {},
   "source": [
    "## K fold"
   ]
  },
  {
   "cell_type": "code",
   "execution_count": null,
   "id": "a9600659",
   "metadata": {},
   "outputs": [],
   "source": [
    "from kfold import k_folds, train_values, test_values"
   ]
  },
  {
   "cell_type": "markdown",
   "id": "6a59575b",
   "metadata": {
    "id": "53d00fba"
   },
   "source": [
    "## Models"
   ]
  },
  {
   "cell_type": "code",
   "execution_count": null,
   "id": "b7476ab5",
   "metadata": {
    "executionInfo": {
     "elapsed": 13,
     "status": "ok",
     "timestamp": 1674842888121,
     "user": {
      "displayName": "Rafael Oleques Nunes",
      "userId": "05604873930049794921"
     },
     "user_tz": 180
    },
    "id": "d64cbc08"
   },
   "outputs": [],
   "source": [
    "from sklearn.naive_bayes import MultinomialNB\n",
    "from sklearn.tree import DecisionTreeClassifier\n",
    "from sklearn.neighbors import KNeighborsClassifier"
   ]
  },
  {
   "cell_type": "code",
   "execution_count": null,
   "id": "cb8da4d0",
   "metadata": {},
   "outputs": [],
   "source": [
    "from sklearn.pipeline import Pipeline"
   ]
  },
  {
   "cell_type": "markdown",
   "id": "793e80c6",
   "metadata": {},
   "source": [
    "## Metrics"
   ]
  },
  {
   "cell_type": "code",
   "execution_count": null,
   "id": "0b1d2c99",
   "metadata": {
    "executionInfo": {
     "elapsed": 15,
     "status": "ok",
     "timestamp": 1674842888121,
     "user": {
      "displayName": "Rafael Oleques Nunes",
      "userId": "05604873930049794921"
     },
     "user_tz": 180
    },
    "id": "1c1f743d"
   },
   "outputs": [],
   "source": [
    "from sklearn.metrics import accuracy_score\n",
    "from sklearn.metrics import recall_score\n",
    "from sklearn.metrics import precision_score"
   ]
  },
  {
   "cell_type": "markdown",
   "id": "705d9bef",
   "metadata": {},
   "source": [
    "## Text to list"
   ]
  },
  {
   "cell_type": "code",
   "execution_count": null,
   "id": "e1118ceb",
   "metadata": {},
   "outputs": [],
   "source": [
    "from sklearn.feature_extraction.text import CountVectorizer\n",
    "from sklearn.feature_extraction.text import TfidfTransformer"
   ]
  },
  {
   "cell_type": "markdown",
   "id": "48c73e92",
   "metadata": {
    "id": "48c73e92"
   },
   "source": [
    "# Reading and visualizing data"
   ]
  },
  {
   "cell_type": "code",
   "execution_count": 74,
   "id": "C88xiTy7P8Dw",
   "metadata": {
    "executionInfo": {
     "elapsed": 5,
     "status": "ok",
     "timestamp": 1674837334878,
     "user": {
      "displayName": "Rafael Oleques Nunes",
      "userId": "05604873930049794921"
     },
     "user_tz": 180
    },
    "id": "C88xiTy7P8Dw"
   },
   "outputs": [],
   "source": [
    "#Lembre de fazer upload dele nos arquivos do colab\n",
    "PATH = \"./data/iliad_sentiments.csv\""
   ]
  },
  {
   "cell_type": "code",
   "execution_count": 75,
   "id": "31950d6a",
   "metadata": {
    "colab": {
     "base_uri": "https://localhost:8080/",
     "height": 424
    },
    "executionInfo": {
     "elapsed": 410,
     "status": "ok",
     "timestamp": 1674837350595,
     "user": {
      "displayName": "Rafael Oleques Nunes",
      "userId": "05604873930049794921"
     },
     "user_tz": 180
    },
    "id": "31950d6a",
    "outputId": "584164e9-be62-4006-bd29-8acd1d8edb3d"
   },
   "outputs": [
    {
     "data": {
      "text/html": [
       "<div>\n",
       "<style scoped>\n",
       "    .dataframe tbody tr th:only-of-type {\n",
       "        vertical-align: middle;\n",
       "    }\n",
       "\n",
       "    .dataframe tbody tr th {\n",
       "        vertical-align: top;\n",
       "    }\n",
       "\n",
       "    .dataframe thead th {\n",
       "        text-align: right;\n",
       "    }\n",
       "</style>\n",
       "<table border=\"1\" class=\"dataframe\">\n",
       "  <thead>\n",
       "    <tr style=\"text-align: right;\">\n",
       "      <th></th>\n",
       "      <th>greek text</th>\n",
       "      <th>english text</th>\n",
       "      <th>neutral</th>\n",
       "      <th>positive</th>\n",
       "      <th>negative</th>\n",
       "      <th>narrator</th>\n",
       "      <th>y</th>\n",
       "      <th>class</th>\n",
       "    </tr>\n",
       "  </thead>\n",
       "  <tbody>\n",
       "    <tr>\n",
       "      <th>0</th>\n",
       "      <td>Τη μάνητα, θεά, τραγούδα μας του ξακουστού Αχι...</td>\n",
       "      <td>Apollo’s priest to th’ Argive fleet doth bring</td>\n",
       "      <td>0.375</td>\n",
       "      <td>0.500</td>\n",
       "      <td>0.125</td>\n",
       "      <td>0.0</td>\n",
       "      <td>[0.375, 0.5, 0.125, 0.0]</td>\n",
       "      <td>positive</td>\n",
       "    </tr>\n",
       "    <tr>\n",
       "      <th>1</th>\n",
       "      <td>ανάθεμα τη, πίκρες που 'δωκε στους Αχαιούς περ...</td>\n",
       "      <td>Gifts for his daughter, pris’ner to the king;</td>\n",
       "      <td>0.125</td>\n",
       "      <td>0.250</td>\n",
       "      <td>0.625</td>\n",
       "      <td>0.0</td>\n",
       "      <td>[0.125, 0.25, 0.625, 0.0]</td>\n",
       "      <td>negative</td>\n",
       "    </tr>\n",
       "    <tr>\n",
       "      <th>2</th>\n",
       "      <td>και πλήθος αντρειωμένες έστειλε ψυχές στον Άδη...</td>\n",
       "      <td>For which her tender’d freedom he entreats;</td>\n",
       "      <td>0.000</td>\n",
       "      <td>0.125</td>\n",
       "      <td>0.875</td>\n",
       "      <td>0.0</td>\n",
       "      <td>[0.0, 0.125, 0.875, 0.0]</td>\n",
       "      <td>negative</td>\n",
       "    </tr>\n",
       "    <tr>\n",
       "      <th>3</th>\n",
       "      <td>παλικαριών, στους σκύλους ρίχνοντας να φάνε τα...</td>\n",
       "      <td>But, being dismiss’d with contumelious threats,</td>\n",
       "      <td>0.000</td>\n",
       "      <td>0.125</td>\n",
       "      <td>0.875</td>\n",
       "      <td>0.0</td>\n",
       "      <td>[0.0, 0.125, 0.875, 0.0]</td>\n",
       "      <td>negative</td>\n",
       "    </tr>\n",
       "    <tr>\n",
       "      <th>4</th>\n",
       "      <td>και στα όρνια ολούθε —έτσι το θέλησε να γίνει ...</td>\n",
       "      <td>At Phœbus’ hands, by vengeful pray’r, he seeks</td>\n",
       "      <td>0.500</td>\n",
       "      <td>0.125</td>\n",
       "      <td>0.375</td>\n",
       "      <td>0.0</td>\n",
       "      <td>[0.5, 0.125, 0.375, 0.0]</td>\n",
       "      <td>neutral</td>\n",
       "    </tr>\n",
       "    <tr>\n",
       "      <th>...</th>\n",
       "      <td>...</td>\n",
       "      <td>...</td>\n",
       "      <td>...</td>\n",
       "      <td>...</td>\n",
       "      <td>...</td>\n",
       "      <td>...</td>\n",
       "      <td>...</td>\n",
       "      <td>...</td>\n",
       "    </tr>\n",
       "    <tr>\n",
       "      <th>606</th>\n",
       "      <td>κει που 'χε χτίσει στον καθένα τους παλάτι ο κ...</td>\n",
       "      <td>Address’d for sleep, where ev’ry one, with art...</td>\n",
       "      <td>0.375</td>\n",
       "      <td>0.625</td>\n",
       "      <td>0.000</td>\n",
       "      <td>0.0</td>\n",
       "      <td>[0.375, 0.625, 0.0, 0.0]</td>\n",
       "      <td>positive</td>\n",
       "    </tr>\n",
       "    <tr>\n",
       "      <th>607</th>\n",
       "      <td>ο ξακουστός τεχνίτης Ήφαιστος, με τη σοφή του ...</td>\n",
       "      <td>By heav’n’s great both-foot-halting God a sev’...</td>\n",
       "      <td>0.250</td>\n",
       "      <td>0.750</td>\n",
       "      <td>0.000</td>\n",
       "      <td>0.0</td>\n",
       "      <td>[0.25, 0.75, 0.0, 0.0]</td>\n",
       "      <td>positive</td>\n",
       "    </tr>\n",
       "    <tr>\n",
       "      <th>608</th>\n",
       "      <td>Κι ο Δίας ο Ολύμπιος, ό αστραπόχαρος, στην κλί...</td>\n",
       "      <td>Ev’n he to sleep went, by whose hand heav’n is...</td>\n",
       "      <td>0.250</td>\n",
       "      <td>0.750</td>\n",
       "      <td>0.000</td>\n",
       "      <td>0.0</td>\n",
       "      <td>[0.25, 0.75, 0.0, 0.0]</td>\n",
       "      <td>positive</td>\n",
       "    </tr>\n",
       "    <tr>\n",
       "      <th>609</th>\n",
       "      <td>εκεί που ως τώρα πάντα, ως του 'ρχονταν ύπνος ...</td>\n",
       "      <td>High Jove, where he had us’d to rest when swee...</td>\n",
       "      <td>0.125</td>\n",
       "      <td>0.875</td>\n",
       "      <td>0.000</td>\n",
       "      <td>0.0</td>\n",
       "      <td>[0.125, 0.875, 0.0, 0.0]</td>\n",
       "      <td>positive</td>\n",
       "    </tr>\n",
       "    <tr>\n",
       "      <th>610</th>\n",
       "      <td>κει πάνω ανέβη, κι η χρυσόθρονη σιμά του επλάγ...</td>\n",
       "      <td>By him the golden-thron’d Queen slept, the Que...</td>\n",
       "      <td>0.125</td>\n",
       "      <td>0.875</td>\n",
       "      <td>0.000</td>\n",
       "      <td>0.0</td>\n",
       "      <td>[0.125, 0.875, 0.0, 0.0]</td>\n",
       "      <td>positive</td>\n",
       "    </tr>\n",
       "  </tbody>\n",
       "</table>\n",
       "<p>611 rows × 8 columns</p>\n",
       "</div>"
      ],
      "text/plain": [
       "                                            greek text  \\\n",
       "0    Τη μάνητα, θεά, τραγούδα μας του ξακουστού Αχι...   \n",
       "1    ανάθεμα τη, πίκρες που 'δωκε στους Αχαιούς περ...   \n",
       "2    και πλήθος αντρειωμένες έστειλε ψυχές στον Άδη...   \n",
       "3    παλικαριών, στους σκύλους ρίχνοντας να φάνε τα...   \n",
       "4    και στα όρνια ολούθε —έτσι το θέλησε να γίνει ...   \n",
       "..                                                 ...   \n",
       "606  κει που 'χε χτίσει στον καθένα τους παλάτι ο κ...   \n",
       "607  ο ξακουστός τεχνίτης Ήφαιστος, με τη σοφή του ...   \n",
       "608  Κι ο Δίας ο Ολύμπιος, ό αστραπόχαρος, στην κλί...   \n",
       "609  εκεί που ως τώρα πάντα, ως του 'ρχονταν ύπνος ...   \n",
       "610  κει πάνω ανέβη, κι η χρυσόθρονη σιμά του επλάγ...   \n",
       "\n",
       "                                          english text  neutral  positive  \\\n",
       "0       Apollo’s priest to th’ Argive fleet doth bring    0.375     0.500   \n",
       "1        Gifts for his daughter, pris’ner to the king;    0.125     0.250   \n",
       "2          For which her tender’d freedom he entreats;    0.000     0.125   \n",
       "3      But, being dismiss’d with contumelious threats,    0.000     0.125   \n",
       "4       At Phœbus’ hands, by vengeful pray’r, he seeks    0.500     0.125   \n",
       "..                                                 ...      ...       ...   \n",
       "606  Address’d for sleep, where ev’ry one, with art...    0.375     0.625   \n",
       "607  By heav’n’s great both-foot-halting God a sev’...    0.250     0.750   \n",
       "608  Ev’n he to sleep went, by whose hand heav’n is...    0.250     0.750   \n",
       "609  High Jove, where he had us’d to rest when swee...    0.125     0.875   \n",
       "610  By him the golden-thron’d Queen slept, the Que...    0.125     0.875   \n",
       "\n",
       "     negative  narrator                          y     class  \n",
       "0       0.125       0.0   [0.375, 0.5, 0.125, 0.0]  positive  \n",
       "1       0.625       0.0  [0.125, 0.25, 0.625, 0.0]  negative  \n",
       "2       0.875       0.0   [0.0, 0.125, 0.875, 0.0]  negative  \n",
       "3       0.875       0.0   [0.0, 0.125, 0.875, 0.0]  negative  \n",
       "4       0.375       0.0   [0.5, 0.125, 0.375, 0.0]   neutral  \n",
       "..        ...       ...                        ...       ...  \n",
       "606     0.000       0.0   [0.375, 0.625, 0.0, 0.0]  positive  \n",
       "607     0.000       0.0     [0.25, 0.75, 0.0, 0.0]  positive  \n",
       "608     0.000       0.0     [0.25, 0.75, 0.0, 0.0]  positive  \n",
       "609     0.000       0.0   [0.125, 0.875, 0.0, 0.0]  positive  \n",
       "610     0.000       0.0   [0.125, 0.875, 0.0, 0.0]  positive  \n",
       "\n",
       "[611 rows x 8 columns]"
      ]
     },
     "execution_count": 75,
     "metadata": {},
     "output_type": "execute_result"
    }
   ],
   "source": [
    "df = pd.read_csv(PATH)  \n",
    "df"
   ]
  },
  {
   "cell_type": "code",
   "execution_count": 4,
   "id": "11fab597",
   "metadata": {
    "colab": {
     "base_uri": "https://localhost:8080/"
    },
    "executionInfo": {
     "elapsed": 415,
     "status": "ok",
     "timestamp": 1674837353830,
     "user": {
      "displayName": "Rafael Oleques Nunes",
      "userId": "05604873930049794921"
     },
     "user_tz": 180
    },
    "id": "11fab597",
    "outputId": "a141c91a-d6e6-46c9-822b-b6207fbf222f"
   },
   "outputs": [
    {
     "name": "stdout",
     "output_type": "stream",
     "text": [
      "<class 'pandas.core.frame.DataFrame'>\n",
      "RangeIndex: 611 entries, 0 to 610\n",
      "Data columns (total 8 columns):\n",
      " #   Column        Non-Null Count  Dtype  \n",
      "---  ------        --------------  -----  \n",
      " 0   greek text    611 non-null    object \n",
      " 1   english text  611 non-null    object \n",
      " 2   neutral       611 non-null    float64\n",
      " 3   positive      611 non-null    float64\n",
      " 4   negative      611 non-null    float64\n",
      " 5   narrator      611 non-null    float64\n",
      " 6   y             611 non-null    object \n",
      " 7   class         611 non-null    object \n",
      "dtypes: float64(4), object(4)\n",
      "memory usage: 38.3+ KB\n"
     ]
    }
   ],
   "source": [
    "df.info()"
   ]
  },
  {
   "cell_type": "code",
   "execution_count": 5,
   "id": "b5f73a61",
   "metadata": {
    "colab": {
     "base_uri": "https://localhost:8080/",
     "height": 281
    },
    "executionInfo": {
     "elapsed": 4,
     "status": "ok",
     "timestamp": 1674837353830,
     "user": {
      "displayName": "Rafael Oleques Nunes",
      "userId": "05604873930049794921"
     },
     "user_tz": 180
    },
    "id": "b5f73a61",
    "outputId": "47d0085f-d74f-43e9-a788-ca2f71241766"
   },
   "outputs": [
    {
     "data": {
      "image/png": "[encoded data removed]",
      "text/plain": [
       "<Figure size 640x480 with 1 Axes>"
      ]
     },
     "metadata": {},
     "output_type": "display_data"
    }
   ],
   "source": [
    "## Distribuição do atributo alvo\n",
    "plt.hist(df['class'])\n",
    "plt.title(\"Distribuição do atributo alvo\")\n",
    "plt.show()"
   ]
  },
  {
   "cell_type": "code",
   "execution_count": 76,
   "id": "0054bc1b-7b41-43c5-a03a-afaf5ebaa764",
   "metadata": {},
   "outputs": [],
   "source": [
    "def count_values(nro_instances, df_inverse):\n",
    "    counter = [df_inverse[i].value_counts() for i in range(0, nro_instances)] \n",
    "\n",
    "    return counter\n",
    "\n",
    "def count_ambiguous(counter):\n",
    "    nro_ambiguous = 0\n",
    "    ambiguos_list = []\n",
    "    \n",
    "    for idx, count in enumerate(counter):\n",
    "        indexes = count.index\n",
    "        max_index = indexes.max()\n",
    "\n",
    "        if count.at[max_index] > 1:\n",
    "            nro_ambiguous += 1\n",
    "            ambiguos_list.append(idx)\n",
    "\n",
    "    return nro_ambiguous, ambiguos_list\n",
    "\n",
    "def get_ambiguous(df):\n",
    "    \n",
    "    df_inverse = df.T\n",
    "    df_inverse = df_inverse.drop([\"greek text\", \"english text\", \"class\", \"y\"])\n",
    "    \n",
    "    counter = count_values(len(df), df_inverse)\n",
    "    \n",
    "    nro_ambiguous, ambiguos_list = count_ambiguous(counter)\n",
    "    \n",
    "    return nro_ambiguous, ambiguos_list"
   ]
  },
  {
   "cell_type": "code",
   "execution_count": 77,
   "id": "22ba3e96-5ff0-4671-b7ce-6e80b057db72",
   "metadata": {},
   "outputs": [],
   "source": [
    "nro_ambiguous, ambiguos_list = get_ambiguous(df)"
   ]
  },
  {
   "cell_type": "code",
   "execution_count": 78,
   "id": "12241e27-f70e-42e2-a980-c0f4ba2f5253",
   "metadata": {},
   "outputs": [
    {
     "data": {
      "text/plain": [
       "69"
      ]
     },
     "execution_count": 78,
     "metadata": {},
     "output_type": "execute_result"
    }
   ],
   "source": [
    "nro_ambiguous"
   ]
  },
  {
   "cell_type": "code",
   "execution_count": 80,
   "id": "fec3954f-985a-481a-a362-8c9672f72614",
   "metadata": {},
   "outputs": [
    {
     "data": {
      "text/html": [
       "<div>\n",
       "<style scoped>\n",
       "    .dataframe tbody tr th:only-of-type {\n",
       "        vertical-align: middle;\n",
       "    }\n",
       "\n",
       "    .dataframe tbody tr th {\n",
       "        vertical-align: top;\n",
       "    }\n",
       "\n",
       "    .dataframe thead th {\n",
       "        text-align: right;\n",
       "    }\n",
       "</style>\n",
       "<table border=\"1\" class=\"dataframe\">\n",
       "  <thead>\n",
       "    <tr style=\"text-align: right;\">\n",
       "      <th></th>\n",
       "      <th>greek text</th>\n",
       "      <th>token_count</th>\n",
       "    </tr>\n",
       "  </thead>\n",
       "  <tbody>\n",
       "    <tr>\n",
       "      <th>0</th>\n",
       "      <td>Τη μάνητα, θεά, τραγούδα μας του ξακουστού Αχι...</td>\n",
       "      <td>8</td>\n",
       "    </tr>\n",
       "    <tr>\n",
       "      <th>1</th>\n",
       "      <td>ανάθεμα τη, πίκρες που 'δωκε στους Αχαιούς περ...</td>\n",
       "      <td>8</td>\n",
       "    </tr>\n",
       "    <tr>\n",
       "      <th>2</th>\n",
       "      <td>και πλήθος αντρειωμένες έστειλε ψυχές στον Άδη...</td>\n",
       "      <td>8</td>\n",
       "    </tr>\n",
       "    <tr>\n",
       "      <th>3</th>\n",
       "      <td>παλικαριών, στους σκύλους ρίχνοντας να φάνε τα...</td>\n",
       "      <td>9</td>\n",
       "    </tr>\n",
       "    <tr>\n",
       "      <th>4</th>\n",
       "      <td>και στα όρνια ολούθε —έτσι το θέλησε να γίνει ...</td>\n",
       "      <td>12</td>\n",
       "    </tr>\n",
       "    <tr>\n",
       "      <th>...</th>\n",
       "      <td>...</td>\n",
       "      <td>...</td>\n",
       "    </tr>\n",
       "    <tr>\n",
       "      <th>606</th>\n",
       "      <td>κει που 'χε χτίσει στον καθένα τους παλάτι ο κ...</td>\n",
       "      <td>10</td>\n",
       "    </tr>\n",
       "    <tr>\n",
       "      <th>607</th>\n",
       "      <td>ο ξακουστός τεχνίτης Ήφαιστος, με τη σοφή του ...</td>\n",
       "      <td>9</td>\n",
       "    </tr>\n",
       "    <tr>\n",
       "      <th>608</th>\n",
       "      <td>Κι ο Δίας ο Ολύμπιος, ό αστραπόχαρος, στην κλί...</td>\n",
       "      <td>11</td>\n",
       "    </tr>\n",
       "    <tr>\n",
       "      <th>609</th>\n",
       "      <td>εκεί που ως τώρα πάντα, ως του 'ρχονταν ύπνος ...</td>\n",
       "      <td>11</td>\n",
       "    </tr>\n",
       "    <tr>\n",
       "      <th>610</th>\n",
       "      <td>κει πάνω ανέβη, κι η χρυσόθρονη σιμά του επλάγ...</td>\n",
       "      <td>10</td>\n",
       "    </tr>\n",
       "  </tbody>\n",
       "</table>\n",
       "<p>611 rows × 2 columns</p>\n",
       "</div>"
      ],
      "text/plain": [
       "                                            greek text  token_count\n",
       "0    Τη μάνητα, θεά, τραγούδα μας του ξακουστού Αχι...            8\n",
       "1    ανάθεμα τη, πίκρες που 'δωκε στους Αχαιούς περ...            8\n",
       "2    και πλήθος αντρειωμένες έστειλε ψυχές στον Άδη...            8\n",
       "3    παλικαριών, στους σκύλους ρίχνοντας να φάνε τα...            9\n",
       "4    και στα όρνια ολούθε —έτσι το θέλησε να γίνει ...           12\n",
       "..                                                 ...          ...\n",
       "606  κει που 'χε χτίσει στον καθένα τους παλάτι ο κ...           10\n",
       "607  ο ξακουστός τεχνίτης Ήφαιστος, με τη σοφή του ...            9\n",
       "608  Κι ο Δίας ο Ολύμπιος, ό αστραπόχαρος, στην κλί...           11\n",
       "609  εκεί που ως τώρα πάντα, ως του 'ρχονταν ύπνος ...           11\n",
       "610  κει πάνω ανέβη, κι η χρυσόθρονη σιμά του επλάγ...           10\n",
       "\n",
       "[611 rows x 2 columns]"
      ]
     },
     "execution_count": 80,
     "metadata": {},
     "output_type": "execute_result"
    }
   ],
   "source": [
    "df_tokens = df.copy()\n",
    "df_tokens['token_count'] = df[\"greek text\"].str.replace(',','').str.split().str.len()\n",
    "df_tokens.filter(['greek text','token_count'])"
   ]
  },
  {
   "cell_type": "code",
   "execution_count": 84,
   "id": "0c92cd24",
   "metadata": {
    "executionInfo": {
     "elapsed": 2,
     "status": "ok",
     "timestamp": 1674837799149,
     "user": {
      "displayName": "Rafael Oleques Nunes",
      "userId": "05604873930049794921"
     },
     "user_tz": 180
    },
    "id": "0c92cd24"
   },
   "outputs": [],
   "source": [
    "id2target = {\n",
    "    0: \"negative\",\n",
    "    1: \"positive\",\n",
    "    2: \"neutral\",\n",
    "    3: \"narrator\",\n",
    "}"
   ]
  },
  {
   "cell_type": "code",
   "execution_count": 85,
   "id": "acc2d0ef",
   "metadata": {
    "colab": {
     "base_uri": "https://localhost:8080/"
    },
    "executionInfo": {
     "elapsed": 2,
     "status": "ok",
     "timestamp": 1674837799149,
     "user": {
      "displayName": "Rafael Oleques Nunes",
      "userId": "05604873930049794921"
     },
     "user_tz": 180
    },
    "id": "acc2d0ef",
    "outputId": "ff2b3bd2-3129-4330-ea57-c0dcba33d7c7"
   },
   "outputs": [
    {
     "data": {
      "text/plain": [
       "{'negative': 0, 'positive': 1, 'neutral': 2, 'narrator': 3}"
      ]
     },
     "execution_count": 85,
     "metadata": {},
     "output_type": "execute_result"
    }
   ],
   "source": [
    "target2id = {id2target[target_id]: target_id for target_id in id2target}\n",
    "target2id"
   ]
  },
  {
   "cell_type": "code",
   "execution_count": 177,
   "id": "a22e991a-6643-4fb4-8d27-5bf7e7f21800",
   "metadata": {},
   "outputs": [],
   "source": [
    "df_verses = df.reset_index(names=\"verse\")"
   ]
  },
  {
   "cell_type": "code",
   "execution_count": 185,
   "id": "477bc677-77fe-4f43-bd64-5e2e88aec3a5",
   "metadata": {},
   "outputs": [
    {
     "data": {
      "text/html": [
       "<div>\n",
       "<style scoped>\n",
       "    .dataframe tbody tr th:only-of-type {\n",
       "        vertical-align: middle;\n",
       "    }\n",
       "\n",
       "    .dataframe tbody tr th {\n",
       "        vertical-align: top;\n",
       "    }\n",
       "\n",
       "    .dataframe thead th {\n",
       "        text-align: right;\n",
       "    }\n",
       "</style>\n",
       "<table border=\"1\" class=\"dataframe\">\n",
       "  <thead>\n",
       "    <tr style=\"text-align: right;\">\n",
       "      <th></th>\n",
       "      <th>verse</th>\n",
       "      <th>greek text</th>\n",
       "      <th>english text</th>\n",
       "      <th>neutral</th>\n",
       "      <th>positive</th>\n",
       "      <th>negative</th>\n",
       "      <th>narrator</th>\n",
       "      <th>y</th>\n",
       "      <th>class</th>\n",
       "    </tr>\n",
       "  </thead>\n",
       "  <tbody>\n",
       "    <tr>\n",
       "      <th>0</th>\n",
       "      <td>0</td>\n",
       "      <td>Τη μάνητα, θεά, τραγούδα μας του ξακουστού Αχι...</td>\n",
       "      <td>Apollo’s priest to th’ Argive fleet doth bring</td>\n",
       "      <td>0.375</td>\n",
       "      <td>0.500</td>\n",
       "      <td>0.125</td>\n",
       "      <td>0.0</td>\n",
       "      <td>[0.375, 0.5, 0.125, 0.0]</td>\n",
       "      <td>1</td>\n",
       "    </tr>\n",
       "    <tr>\n",
       "      <th>1</th>\n",
       "      <td>1</td>\n",
       "      <td>ανάθεμα τη, πίκρες που 'δωκε στους Αχαιούς περ...</td>\n",
       "      <td>Gifts for his daughter, pris’ner to the king;</td>\n",
       "      <td>0.125</td>\n",
       "      <td>0.250</td>\n",
       "      <td>0.625</td>\n",
       "      <td>0.0</td>\n",
       "      <td>[0.125, 0.25, 0.625, 0.0]</td>\n",
       "      <td>0</td>\n",
       "    </tr>\n",
       "    <tr>\n",
       "      <th>2</th>\n",
       "      <td>2</td>\n",
       "      <td>και πλήθος αντρειωμένες έστειλε ψυχές στον Άδη...</td>\n",
       "      <td>For which her tender’d freedom he entreats;</td>\n",
       "      <td>0.000</td>\n",
       "      <td>0.125</td>\n",
       "      <td>0.875</td>\n",
       "      <td>0.0</td>\n",
       "      <td>[0.0, 0.125, 0.875, 0.0]</td>\n",
       "      <td>0</td>\n",
       "    </tr>\n",
       "    <tr>\n",
       "      <th>3</th>\n",
       "      <td>3</td>\n",
       "      <td>παλικαριών, στους σκύλους ρίχνοντας να φάνε τα...</td>\n",
       "      <td>But, being dismiss’d with contumelious threats,</td>\n",
       "      <td>0.000</td>\n",
       "      <td>0.125</td>\n",
       "      <td>0.875</td>\n",
       "      <td>0.0</td>\n",
       "      <td>[0.0, 0.125, 0.875, 0.0]</td>\n",
       "      <td>0</td>\n",
       "    </tr>\n",
       "    <tr>\n",
       "      <th>4</th>\n",
       "      <td>4</td>\n",
       "      <td>και στα όρνια ολούθε —έτσι το θέλησε να γίνει ...</td>\n",
       "      <td>At Phœbus’ hands, by vengeful pray’r, he seeks</td>\n",
       "      <td>0.500</td>\n",
       "      <td>0.125</td>\n",
       "      <td>0.375</td>\n",
       "      <td>0.0</td>\n",
       "      <td>[0.5, 0.125, 0.375, 0.0]</td>\n",
       "      <td>2</td>\n",
       "    </tr>\n",
       "    <tr>\n",
       "      <th>...</th>\n",
       "      <td>...</td>\n",
       "      <td>...</td>\n",
       "      <td>...</td>\n",
       "      <td>...</td>\n",
       "      <td>...</td>\n",
       "      <td>...</td>\n",
       "      <td>...</td>\n",
       "      <td>...</td>\n",
       "      <td>...</td>\n",
       "    </tr>\n",
       "    <tr>\n",
       "      <th>606</th>\n",
       "      <td>606</td>\n",
       "      <td>κει που 'χε χτίσει στον καθένα τους παλάτι ο κ...</td>\n",
       "      <td>Address’d for sleep, where ev’ry one, with art...</td>\n",
       "      <td>0.375</td>\n",
       "      <td>0.625</td>\n",
       "      <td>0.000</td>\n",
       "      <td>0.0</td>\n",
       "      <td>[0.375, 0.625, 0.0, 0.0]</td>\n",
       "      <td>1</td>\n",
       "    </tr>\n",
       "    <tr>\n",
       "      <th>607</th>\n",
       "      <td>607</td>\n",
       "      <td>ο ξακουστός τεχνίτης Ήφαιστος, με τη σοφή του ...</td>\n",
       "      <td>By heav’n’s great both-foot-halting God a sev’...</td>\n",
       "      <td>0.250</td>\n",
       "      <td>0.750</td>\n",
       "      <td>0.000</td>\n",
       "      <td>0.0</td>\n",
       "      <td>[0.25, 0.75, 0.0, 0.0]</td>\n",
       "      <td>1</td>\n",
       "    </tr>\n",
       "    <tr>\n",
       "      <th>608</th>\n",
       "      <td>608</td>\n",
       "      <td>Κι ο Δίας ο Ολύμπιος, ό αστραπόχαρος, στην κλί...</td>\n",
       "      <td>Ev’n he to sleep went, by whose hand heav’n is...</td>\n",
       "      <td>0.250</td>\n",
       "      <td>0.750</td>\n",
       "      <td>0.000</td>\n",
       "      <td>0.0</td>\n",
       "      <td>[0.25, 0.75, 0.0, 0.0]</td>\n",
       "      <td>1</td>\n",
       "    </tr>\n",
       "    <tr>\n",
       "      <th>609</th>\n",
       "      <td>609</td>\n",
       "      <td>εκεί που ως τώρα πάντα, ως του 'ρχονταν ύπνος ...</td>\n",
       "      <td>High Jove, where he had us’d to rest when swee...</td>\n",
       "      <td>0.125</td>\n",
       "      <td>0.875</td>\n",
       "      <td>0.000</td>\n",
       "      <td>0.0</td>\n",
       "      <td>[0.125, 0.875, 0.0, 0.0]</td>\n",
       "      <td>1</td>\n",
       "    </tr>\n",
       "    <tr>\n",
       "      <th>610</th>\n",
       "      <td>610</td>\n",
       "      <td>κει πάνω ανέβη, κι η χρυσόθρονη σιμά του επλάγ...</td>\n",
       "      <td>By him the golden-thron’d Queen slept, the Que...</td>\n",
       "      <td>0.125</td>\n",
       "      <td>0.875</td>\n",
       "      <td>0.000</td>\n",
       "      <td>0.0</td>\n",
       "      <td>[0.125, 0.875, 0.0, 0.0]</td>\n",
       "      <td>1</td>\n",
       "    </tr>\n",
       "  </tbody>\n",
       "</table>\n",
       "<p>611 rows × 9 columns</p>\n",
       "</div>"
      ],
      "text/plain": [
       "     verse                                         greek text  \\\n",
       "0        0  Τη μάνητα, θεά, τραγούδα μας του ξακουστού Αχι...   \n",
       "1        1  ανάθεμα τη, πίκρες που 'δωκε στους Αχαιούς περ...   \n",
       "2        2  και πλήθος αντρειωμένες έστειλε ψυχές στον Άδη...   \n",
       "3        3  παλικαριών, στους σκύλους ρίχνοντας να φάνε τα...   \n",
       "4        4  και στα όρνια ολούθε —έτσι το θέλησε να γίνει ...   \n",
       "..     ...                                                ...   \n",
       "606    606  κει που 'χε χτίσει στον καθένα τους παλάτι ο κ...   \n",
       "607    607  ο ξακουστός τεχνίτης Ήφαιστος, με τη σοφή του ...   \n",
       "608    608  Κι ο Δίας ο Ολύμπιος, ό αστραπόχαρος, στην κλί...   \n",
       "609    609  εκεί που ως τώρα πάντα, ως του 'ρχονταν ύπνος ...   \n",
       "610    610  κει πάνω ανέβη, κι η χρυσόθρονη σιμά του επλάγ...   \n",
       "\n",
       "                                          english text  neutral  positive  \\\n",
       "0       Apollo’s priest to th’ Argive fleet doth bring    0.375     0.500   \n",
       "1        Gifts for his daughter, pris’ner to the king;    0.125     0.250   \n",
       "2          For which her tender’d freedom he entreats;    0.000     0.125   \n",
       "3      But, being dismiss’d with contumelious threats,    0.000     0.125   \n",
       "4       At Phœbus’ hands, by vengeful pray’r, he seeks    0.500     0.125   \n",
       "..                                                 ...      ...       ...   \n",
       "606  Address’d for sleep, where ev’ry one, with art...    0.375     0.625   \n",
       "607  By heav’n’s great both-foot-halting God a sev’...    0.250     0.750   \n",
       "608  Ev’n he to sleep went, by whose hand heav’n is...    0.250     0.750   \n",
       "609  High Jove, where he had us’d to rest when swee...    0.125     0.875   \n",
       "610  By him the golden-thron’d Queen slept, the Que...    0.125     0.875   \n",
       "\n",
       "     negative  narrator                          y  class  \n",
       "0       0.125       0.0   [0.375, 0.5, 0.125, 0.0]      1  \n",
       "1       0.625       0.0  [0.125, 0.25, 0.625, 0.0]      0  \n",
       "2       0.875       0.0   [0.0, 0.125, 0.875, 0.0]      0  \n",
       "3       0.875       0.0   [0.0, 0.125, 0.875, 0.0]      0  \n",
       "4       0.375       0.0   [0.5, 0.125, 0.375, 0.0]      2  \n",
       "..        ...       ...                        ...    ...  \n",
       "606     0.000       0.0   [0.375, 0.625, 0.0, 0.0]      1  \n",
       "607     0.000       0.0     [0.25, 0.75, 0.0, 0.0]      1  \n",
       "608     0.000       0.0     [0.25, 0.75, 0.0, 0.0]      1  \n",
       "609     0.000       0.0   [0.125, 0.875, 0.0, 0.0]      1  \n",
       "610     0.000       0.0   [0.125, 0.875, 0.0, 0.0]      1  \n",
       "\n",
       "[611 rows x 9 columns]"
      ]
     },
     "execution_count": 185,
     "metadata": {},
     "output_type": "execute_result"
    }
   ],
   "source": [
    "df_class_numeric = df_verses.copy()\n",
    "\n",
    "df_class_numeric = df_class_numeric.replace({'class': target2id})\n",
    "df_class_numeric"
   ]
  },
  {
   "cell_type": "code",
   "execution_count": 202,
   "id": "73adba10-9997-4aec-a959-3b0113a7eab8",
   "metadata": {},
   "outputs": [
    {
     "data": {
      "text/plain": [
       "<AxesSubplot: xlabel='verse', ylabel='class'>"
      ]
     },
     "execution_count": 202,
     "metadata": {},
     "output_type": "execute_result"
    },
    {
     "data": {
      "image/png": "[encoded data removed]",
      "text/plain": [
       "<Figure size 1500x500 with 1 Axes>"
      ]
     },
     "metadata": {},
     "output_type": "display_data"
    }
   ],
   "source": [
    "df_verses.plot.scatter(x=\"verse\", y='class', c=df_class_numeric[\"class\"].values.tolist(), colormap=\"gist_rainbow\", figsize=(15, 5))"
   ]
  },
  {
   "cell_type": "code",
   "execution_count": 187,
   "id": "c25476b1-932b-4bc7-8b07-f766a59ca8b2",
   "metadata": {},
   "outputs": [
    {
     "data": {
      "text/plain": [
       "Index(['verse', 'greek text', 'english text', 'neutral', 'positive',\n",
       "       'negative', 'narrator', 'y', 'class'],\n",
       "      dtype='object')"
      ]
     },
     "execution_count": 187,
     "metadata": {},
     "output_type": "execute_result"
    }
   ],
   "source": [
    "df_class_numeric.columns"
   ]
  },
  {
   "cell_type": "code",
   "execution_count": 188,
   "id": "c750e355-39d2-4c90-9bd9-ddb9b59df931",
   "metadata": {},
   "outputs": [
    {
     "data": {
      "text/html": [
       "<div>\n",
       "<style scoped>\n",
       "    .dataframe tbody tr th:only-of-type {\n",
       "        vertical-align: middle;\n",
       "    }\n",
       "\n",
       "    .dataframe tbody tr th {\n",
       "        vertical-align: top;\n",
       "    }\n",
       "\n",
       "    .dataframe thead th {\n",
       "        text-align: right;\n",
       "    }\n",
       "</style>\n",
       "<table border=\"1\" class=\"dataframe\">\n",
       "  <thead>\n",
       "    <tr style=\"text-align: right;\">\n",
       "      <th></th>\n",
       "      <th>positive</th>\n",
       "      <th>negative</th>\n",
       "      <th>neutral</th>\n",
       "      <th>narrator</th>\n",
       "    </tr>\n",
       "  </thead>\n",
       "  <tbody>\n",
       "    <tr>\n",
       "      <th>0</th>\n",
       "      <td>0.500</td>\n",
       "      <td>0.125</td>\n",
       "      <td>0.375</td>\n",
       "      <td>0.0</td>\n",
       "    </tr>\n",
       "    <tr>\n",
       "      <th>1</th>\n",
       "      <td>0.250</td>\n",
       "      <td>0.625</td>\n",
       "      <td>0.125</td>\n",
       "      <td>0.0</td>\n",
       "    </tr>\n",
       "    <tr>\n",
       "      <th>2</th>\n",
       "      <td>0.125</td>\n",
       "      <td>0.875</td>\n",
       "      <td>0.000</td>\n",
       "      <td>0.0</td>\n",
       "    </tr>\n",
       "    <tr>\n",
       "      <th>3</th>\n",
       "      <td>0.125</td>\n",
       "      <td>0.875</td>\n",
       "      <td>0.000</td>\n",
       "      <td>0.0</td>\n",
       "    </tr>\n",
       "    <tr>\n",
       "      <th>4</th>\n",
       "      <td>0.125</td>\n",
       "      <td>0.375</td>\n",
       "      <td>0.500</td>\n",
       "      <td>0.0</td>\n",
       "    </tr>\n",
       "    <tr>\n",
       "      <th>...</th>\n",
       "      <td>...</td>\n",
       "      <td>...</td>\n",
       "      <td>...</td>\n",
       "      <td>...</td>\n",
       "    </tr>\n",
       "    <tr>\n",
       "      <th>606</th>\n",
       "      <td>0.625</td>\n",
       "      <td>0.000</td>\n",
       "      <td>0.375</td>\n",
       "      <td>0.0</td>\n",
       "    </tr>\n",
       "    <tr>\n",
       "      <th>607</th>\n",
       "      <td>0.750</td>\n",
       "      <td>0.000</td>\n",
       "      <td>0.250</td>\n",
       "      <td>0.0</td>\n",
       "    </tr>\n",
       "    <tr>\n",
       "      <th>608</th>\n",
       "      <td>0.750</td>\n",
       "      <td>0.000</td>\n",
       "      <td>0.250</td>\n",
       "      <td>0.0</td>\n",
       "    </tr>\n",
       "    <tr>\n",
       "      <th>609</th>\n",
       "      <td>0.875</td>\n",
       "      <td>0.000</td>\n",
       "      <td>0.125</td>\n",
       "      <td>0.0</td>\n",
       "    </tr>\n",
       "    <tr>\n",
       "      <th>610</th>\n",
       "      <td>0.875</td>\n",
       "      <td>0.000</td>\n",
       "      <td>0.125</td>\n",
       "      <td>0.0</td>\n",
       "    </tr>\n",
       "  </tbody>\n",
       "</table>\n",
       "<p>611 rows × 4 columns</p>\n",
       "</div>"
      ],
      "text/plain": [
       "     positive  negative  neutral  narrator\n",
       "0       0.500     0.125    0.375       0.0\n",
       "1       0.250     0.625    0.125       0.0\n",
       "2       0.125     0.875    0.000       0.0\n",
       "3       0.125     0.875    0.000       0.0\n",
       "4       0.125     0.375    0.500       0.0\n",
       "..        ...       ...      ...       ...\n",
       "606     0.625     0.000    0.375       0.0\n",
       "607     0.750     0.000    0.250       0.0\n",
       "608     0.750     0.000    0.250       0.0\n",
       "609     0.875     0.000    0.125       0.0\n",
       "610     0.875     0.000    0.125       0.0\n",
       "\n",
       "[611 rows x 4 columns]"
      ]
     },
     "execution_count": 188,
     "metadata": {},
     "output_type": "execute_result"
    }
   ],
   "source": [
    "df_class_numeric[[\"positive\", \"negative\", \"neutral\", \"narrator\"]]"
   ]
  },
  {
   "cell_type": "code",
   "execution_count": 197,
   "id": "91e2d5eb-6e31-4d99-a1bf-d4d614a140c6",
   "metadata": {},
   "outputs": [
    {
     "data": {
      "image/png": "[encoded data removed]",
      "text/plain": [
       "<Figure size 640x480 with 1 Axes>"
      ]
     },
     "metadata": {},
     "output_type": "display_data"
    }
   ],
   "source": [
    "import pandas as pd\n",
    "import matplotlib.pyplot as plt\n",
    "\n",
    "# Agrupamento dos valores consecutivos da coluna 'class'\n",
    "grouped = (df_class_numeric['class'] != df_class_numeric['class'].shift()).cumsum()\n",
    "\n",
    "# Contagem de ocorrências de cada grupo\n",
    "counts = df_class_numeric.groupby(grouped).size()\n",
    "\n",
    "# Cálculo da frequência acumulada\n",
    "cumulative_counts = counts.cumsum()\n",
    "\n",
    "# Reindexação da série cumulative_counts pelo índice original do DataFrame\n",
    "cumulative_counts = cumulative_counts.reindex(df_class_numeric.index)\n",
    "\n",
    "# Plotagem do gráfico de frequência consecutiva\n",
    "plt.plot(df_class_numeric.index, cumulative_counts)\n",
    "plt.xlabel('Índice')\n",
    "plt.ylabel('Frequência acumulada')\n",
    "plt.show()\n"
   ]
  },
  {
   "cell_type": "code",
   "execution_count": 146,
   "id": "73a01e7e-fee2-41d4-9058-7e0222de35c0",
   "metadata": {},
   "outputs": [
    {
     "name": "stdout",
     "output_type": "stream",
     "text": [
      "0        0\n",
      "1        1\n",
      "2        1\n",
      "3        1\n",
      "4        2\n",
      "      ... \n",
      "606    245\n",
      "607    245\n",
      "608    245\n",
      "609    245\n",
      "610    245\n",
      "Name: soma_acumulada, Length: 611, dtype: int32\n"
     ]
    },
    {
     "data": {
      "image/png": "[encoded data removed]",
      "text/plain": [
       "<Figure size 640x480 with 1 Axes>"
      ]
     },
     "metadata": {},
     "output_type": "display_data"
    }
   ],
   "source": [
    "# criar coluna de diferenças\n",
    "df_class_numeric['diff'] = df_class_numeric['class'].diff().fillna(0)\n",
    "\n",
    "# criar coluna de soma acumulada das diferenças\n",
    "df_class_numeric['soma_acumulada'] = df_class_numeric['diff'].ne(0).cumsum()\n",
    "\n",
    "# ajustar a coluna de soma acumulada para voltar para zero quando o valor muda\n",
    "df_class_numeric['inicio_grupo'] = df_class_numeric.groupby('soma_acumulada')['soma_acumulada'].transform('first')\n",
    "df_class_numeric['soma_acumulada'] = df_class_numeric['diff'].ne(0).cumsum()\n",
    "print(df_class_numeric['soma_acumulada'])\n",
    "\n",
    "# plotar gráfico\n",
    "df_class_numeric.plot(y='soma_acumulada', use_index=True)\n",
    "\n",
    "# ajustar limites do eixo y se necessário\n",
    "plt.ylim(bottom=-1, top=1)\n",
    "\n",
    "# mostrar gráfico\n",
    "plt.show()\n"
   ]
  },
  {
   "cell_type": "code",
   "execution_count": 138,
   "id": "eb64354b-a2f5-4d89-94b5-bb86f6f0a523",
   "metadata": {},
   "outputs": [
    {
     "data": {
      "text/html": [
       "<div>\n",
       "<style scoped>\n",
       "    .dataframe tbody tr th:only-of-type {\n",
       "        vertical-align: middle;\n",
       "    }\n",
       "\n",
       "    .dataframe tbody tr th {\n",
       "        vertical-align: top;\n",
       "    }\n",
       "\n",
       "    .dataframe thead th {\n",
       "        text-align: right;\n",
       "    }\n",
       "</style>\n",
       "<table border=\"1\" class=\"dataframe\">\n",
       "  <thead>\n",
       "    <tr style=\"text-align: right;\">\n",
       "      <th></th>\n",
       "      <th>verse</th>\n",
       "      <th>greek text</th>\n",
       "      <th>english text</th>\n",
       "      <th>neutral</th>\n",
       "      <th>positive</th>\n",
       "      <th>negative</th>\n",
       "      <th>narrator</th>\n",
       "      <th>y</th>\n",
       "      <th>class</th>\n",
       "      <th>diff</th>\n",
       "      <th>soma_acumulada</th>\n",
       "      <th>inicio_classe</th>\n",
       "    </tr>\n",
       "  </thead>\n",
       "  <tbody>\n",
       "    <tr>\n",
       "      <th>0</th>\n",
       "      <td>0</td>\n",
       "      <td>Τη μάνητα, θεά, τραγούδα μας του ξακουστού Αχι...</td>\n",
       "      <td>Apollo’s priest to th’ Argive fleet doth bring</td>\n",
       "      <td>0.375</td>\n",
       "      <td>0.500</td>\n",
       "      <td>0.125</td>\n",
       "      <td>0.0</td>\n",
       "      <td>[0.375, 0.5, 0.125, 0.0]</td>\n",
       "      <td>1</td>\n",
       "      <td>0.0</td>\n",
       "      <td>0</td>\n",
       "      <td>0</td>\n",
       "    </tr>\n",
       "    <tr>\n",
       "      <th>1</th>\n",
       "      <td>1</td>\n",
       "      <td>ανάθεμα τη, πίκρες που 'δωκε στους Αχαιούς περ...</td>\n",
       "      <td>Gifts for his daughter, pris’ner to the king;</td>\n",
       "      <td>0.125</td>\n",
       "      <td>0.250</td>\n",
       "      <td>0.625</td>\n",
       "      <td>0.0</td>\n",
       "      <td>[0.125, 0.25, 0.625, 0.0]</td>\n",
       "      <td>0</td>\n",
       "      <td>-1.0</td>\n",
       "      <td>0</td>\n",
       "      <td>1</td>\n",
       "    </tr>\n",
       "    <tr>\n",
       "      <th>2</th>\n",
       "      <td>2</td>\n",
       "      <td>και πλήθος αντρειωμένες έστειλε ψυχές στον Άδη...</td>\n",
       "      <td>For which her tender’d freedom he entreats;</td>\n",
       "      <td>0.000</td>\n",
       "      <td>0.125</td>\n",
       "      <td>0.875</td>\n",
       "      <td>0.0</td>\n",
       "      <td>[0.0, 0.125, 0.875, 0.0]</td>\n",
       "      <td>0</td>\n",
       "      <td>0.0</td>\n",
       "      <td>0</td>\n",
       "      <td>1</td>\n",
       "    </tr>\n",
       "    <tr>\n",
       "      <th>3</th>\n",
       "      <td>3</td>\n",
       "      <td>παλικαριών, στους σκύλους ρίχνοντας να φάνε τα...</td>\n",
       "      <td>But, being dismiss’d with contumelious threats,</td>\n",
       "      <td>0.000</td>\n",
       "      <td>0.125</td>\n",
       "      <td>0.875</td>\n",
       "      <td>0.0</td>\n",
       "      <td>[0.0, 0.125, 0.875, 0.0]</td>\n",
       "      <td>0</td>\n",
       "      <td>0.0</td>\n",
       "      <td>0</td>\n",
       "      <td>1</td>\n",
       "    </tr>\n",
       "    <tr>\n",
       "      <th>4</th>\n",
       "      <td>4</td>\n",
       "      <td>και στα όρνια ολούθε —έτσι το θέλησε να γίνει ...</td>\n",
       "      <td>At Phœbus’ hands, by vengeful pray’r, he seeks</td>\n",
       "      <td>0.500</td>\n",
       "      <td>0.125</td>\n",
       "      <td>0.375</td>\n",
       "      <td>0.0</td>\n",
       "      <td>[0.5, 0.125, 0.375, 0.0]</td>\n",
       "      <td>2</td>\n",
       "      <td>2.0</td>\n",
       "      <td>0</td>\n",
       "      <td>2</td>\n",
       "    </tr>\n",
       "    <tr>\n",
       "      <th>...</th>\n",
       "      <td>...</td>\n",
       "      <td>...</td>\n",
       "      <td>...</td>\n",
       "      <td>...</td>\n",
       "      <td>...</td>\n",
       "      <td>...</td>\n",
       "      <td>...</td>\n",
       "      <td>...</td>\n",
       "      <td>...</td>\n",
       "      <td>...</td>\n",
       "      <td>...</td>\n",
       "      <td>...</td>\n",
       "    </tr>\n",
       "    <tr>\n",
       "      <th>606</th>\n",
       "      <td>606</td>\n",
       "      <td>κει που 'χε χτίσει στον καθένα τους παλάτι ο κ...</td>\n",
       "      <td>Address’d for sleep, where ev’ry one, with art...</td>\n",
       "      <td>0.375</td>\n",
       "      <td>0.625</td>\n",
       "      <td>0.000</td>\n",
       "      <td>0.0</td>\n",
       "      <td>[0.375, 0.625, 0.0, 0.0]</td>\n",
       "      <td>1</td>\n",
       "      <td>0.0</td>\n",
       "      <td>0</td>\n",
       "      <td>245</td>\n",
       "    </tr>\n",
       "    <tr>\n",
       "      <th>607</th>\n",
       "      <td>607</td>\n",
       "      <td>ο ξακουστός τεχνίτης Ήφαιστος, με τη σοφή του ...</td>\n",
       "      <td>By heav’n’s great both-foot-halting God a sev’...</td>\n",
       "      <td>0.250</td>\n",
       "      <td>0.750</td>\n",
       "      <td>0.000</td>\n",
       "      <td>0.0</td>\n",
       "      <td>[0.25, 0.75, 0.0, 0.0]</td>\n",
       "      <td>1</td>\n",
       "      <td>0.0</td>\n",
       "      <td>0</td>\n",
       "      <td>245</td>\n",
       "    </tr>\n",
       "    <tr>\n",
       "      <th>608</th>\n",
       "      <td>608</td>\n",
       "      <td>Κι ο Δίας ο Ολύμπιος, ό αστραπόχαρος, στην κλί...</td>\n",
       "      <td>Ev’n he to sleep went, by whose hand heav’n is...</td>\n",
       "      <td>0.250</td>\n",
       "      <td>0.750</td>\n",
       "      <td>0.000</td>\n",
       "      <td>0.0</td>\n",
       "      <td>[0.25, 0.75, 0.0, 0.0]</td>\n",
       "      <td>1</td>\n",
       "      <td>0.0</td>\n",
       "      <td>0</td>\n",
       "      <td>245</td>\n",
       "    </tr>\n",
       "    <tr>\n",
       "      <th>609</th>\n",
       "      <td>609</td>\n",
       "      <td>εκεί που ως τώρα πάντα, ως του 'ρχονταν ύπνος ...</td>\n",
       "      <td>High Jove, where he had us’d to rest when swee...</td>\n",
       "      <td>0.125</td>\n",
       "      <td>0.875</td>\n",
       "      <td>0.000</td>\n",
       "      <td>0.0</td>\n",
       "      <td>[0.125, 0.875, 0.0, 0.0]</td>\n",
       "      <td>1</td>\n",
       "      <td>0.0</td>\n",
       "      <td>0</td>\n",
       "      <td>245</td>\n",
       "    </tr>\n",
       "    <tr>\n",
       "      <th>610</th>\n",
       "      <td>610</td>\n",
       "      <td>κει πάνω ανέβη, κι η χρυσόθρονη σιμά του επλάγ...</td>\n",
       "      <td>By him the golden-thron’d Queen slept, the Que...</td>\n",
       "      <td>0.125</td>\n",
       "      <td>0.875</td>\n",
       "      <td>0.000</td>\n",
       "      <td>0.0</td>\n",
       "      <td>[0.125, 0.875, 0.0, 0.0]</td>\n",
       "      <td>1</td>\n",
       "      <td>0.0</td>\n",
       "      <td>0</td>\n",
       "      <td>245</td>\n",
       "    </tr>\n",
       "  </tbody>\n",
       "</table>\n",
       "<p>611 rows × 12 columns</p>\n",
       "</div>"
      ],
      "text/plain": [
       "     verse                                         greek text  \\\n",
       "0        0  Τη μάνητα, θεά, τραγούδα μας του ξακουστού Αχι...   \n",
       "1        1  ανάθεμα τη, πίκρες που 'δωκε στους Αχαιούς περ...   \n",
       "2        2  και πλήθος αντρειωμένες έστειλε ψυχές στον Άδη...   \n",
       "3        3  παλικαριών, στους σκύλους ρίχνοντας να φάνε τα...   \n",
       "4        4  και στα όρνια ολούθε —έτσι το θέλησε να γίνει ...   \n",
       "..     ...                                                ...   \n",
       "606    606  κει που 'χε χτίσει στον καθένα τους παλάτι ο κ...   \n",
       "607    607  ο ξακουστός τεχνίτης Ήφαιστος, με τη σοφή του ...   \n",
       "608    608  Κι ο Δίας ο Ολύμπιος, ό αστραπόχαρος, στην κλί...   \n",
       "609    609  εκεί που ως τώρα πάντα, ως του 'ρχονταν ύπνος ...   \n",
       "610    610  κει πάνω ανέβη, κι η χρυσόθρονη σιμά του επλάγ...   \n",
       "\n",
       "                                          english text  neutral  positive  \\\n",
       "0       Apollo’s priest to th’ Argive fleet doth bring    0.375     0.500   \n",
       "1        Gifts for his daughter, pris’ner to the king;    0.125     0.250   \n",
       "2          For which her tender’d freedom he entreats;    0.000     0.125   \n",
       "3      But, being dismiss’d with contumelious threats,    0.000     0.125   \n",
       "4       At Phœbus’ hands, by vengeful pray’r, he seeks    0.500     0.125   \n",
       "..                                                 ...      ...       ...   \n",
       "606  Address’d for sleep, where ev’ry one, with art...    0.375     0.625   \n",
       "607  By heav’n’s great both-foot-halting God a sev’...    0.250     0.750   \n",
       "608  Ev’n he to sleep went, by whose hand heav’n is...    0.250     0.750   \n",
       "609  High Jove, where he had us’d to rest when swee...    0.125     0.875   \n",
       "610  By him the golden-thron’d Queen slept, the Que...    0.125     0.875   \n",
       "\n",
       "     negative  narrator                          y  class  diff  \\\n",
       "0       0.125       0.0   [0.375, 0.5, 0.125, 0.0]      1   0.0   \n",
       "1       0.625       0.0  [0.125, 0.25, 0.625, 0.0]      0  -1.0   \n",
       "2       0.875       0.0   [0.0, 0.125, 0.875, 0.0]      0   0.0   \n",
       "3       0.875       0.0   [0.0, 0.125, 0.875, 0.0]      0   0.0   \n",
       "4       0.375       0.0   [0.5, 0.125, 0.375, 0.0]      2   2.0   \n",
       "..        ...       ...                        ...    ...   ...   \n",
       "606     0.000       0.0   [0.375, 0.625, 0.0, 0.0]      1   0.0   \n",
       "607     0.000       0.0     [0.25, 0.75, 0.0, 0.0]      1   0.0   \n",
       "608     0.000       0.0     [0.25, 0.75, 0.0, 0.0]      1   0.0   \n",
       "609     0.000       0.0   [0.125, 0.875, 0.0, 0.0]      1   0.0   \n",
       "610     0.000       0.0   [0.125, 0.875, 0.0, 0.0]      1   0.0   \n",
       "\n",
       "     soma_acumulada  inicio_classe  \n",
       "0                 0              0  \n",
       "1                 0              1  \n",
       "2                 0              1  \n",
       "3                 0              1  \n",
       "4                 0              2  \n",
       "..              ...            ...  \n",
       "606               0            245  \n",
       "607               0            245  \n",
       "608               0            245  \n",
       "609               0            245  \n",
       "610               0            245  \n",
       "\n",
       "[611 rows x 12 columns]"
      ]
     },
     "execution_count": 138,
     "metadata": {},
     "output_type": "execute_result"
    }
   ],
   "source": [
    "df_class_numeric"
   ]
  },
  {
   "cell_type": "code",
   "execution_count": null,
   "id": "e8f338da-3a91-4371-a42d-51fe1af7b34b",
   "metadata": {},
   "outputs": [
    {
     "data": {
      "text/html": [
       "<div>\n",
       "<style scoped>\n",
       "    .dataframe tbody tr th:only-of-type {\n",
       "        vertical-align: middle;\n",
       "    }\n",
       "\n",
       "    .dataframe tbody tr th {\n",
       "        vertical-align: top;\n",
       "    }\n",
       "\n",
       "    .dataframe thead th {\n",
       "        text-align: right;\n",
       "    }\n",
       "</style>\n",
       "<table border=\"1\" class=\"dataframe\">\n",
       "  <thead>\n",
       "    <tr style=\"text-align: right;\">\n",
       "      <th></th>\n",
       "      <th>greek text</th>\n",
       "      <th>english text</th>\n",
       "      <th>neutral</th>\n",
       "      <th>positive</th>\n",
       "      <th>negative</th>\n",
       "      <th>narrator</th>\n",
       "      <th>y</th>\n",
       "      <th>class</th>\n",
       "      <th>diff</th>\n",
       "      <th>soma_acumulada</th>\n",
       "    </tr>\n",
       "  </thead>\n",
       "  <tbody>\n",
       "    <tr>\n",
       "      <th>0</th>\n",
       "      <td>Τη μάνητα, θεά, τραγούδα μας του ξακουστού Αχι...</td>\n",
       "      <td>Apollo’s priest to th’ Argive fleet doth bring</td>\n",
       "      <td>0.375</td>\n",
       "      <td>0.500</td>\n",
       "      <td>0.125</td>\n",
       "      <td>0.0</td>\n",
       "      <td>[0.375, 0.5, 0.125, 0.0]</td>\n",
       "      <td>1</td>\n",
       "      <td>0.0</td>\n",
       "      <td>0</td>\n",
       "    </tr>\n",
       "    <tr>\n",
       "      <th>1</th>\n",
       "      <td>ανάθεμα τη, πίκρες που 'δωκε στους Αχαιούς περ...</td>\n",
       "      <td>Gifts for his daughter, pris’ner to the king;</td>\n",
       "      <td>0.125</td>\n",
       "      <td>0.250</td>\n",
       "      <td>0.625</td>\n",
       "      <td>0.0</td>\n",
       "      <td>[0.125, 0.25, 0.625, 0.0]</td>\n",
       "      <td>0</td>\n",
       "      <td>-1.0</td>\n",
       "      <td>1</td>\n",
       "    </tr>\n",
       "    <tr>\n",
       "      <th>2</th>\n",
       "      <td>και πλήθος αντρειωμένες έστειλε ψυχές στον Άδη...</td>\n",
       "      <td>For which her tender’d freedom he entreats;</td>\n",
       "      <td>0.000</td>\n",
       "      <td>0.125</td>\n",
       "      <td>0.875</td>\n",
       "      <td>0.0</td>\n",
       "      <td>[0.0, 0.125, 0.875, 0.0]</td>\n",
       "      <td>0</td>\n",
       "      <td>0.0</td>\n",
       "      <td>1</td>\n",
       "    </tr>\n",
       "    <tr>\n",
       "      <th>3</th>\n",
       "      <td>παλικαριών, στους σκύλους ρίχνοντας να φάνε τα...</td>\n",
       "      <td>But, being dismiss’d with contumelious threats,</td>\n",
       "      <td>0.000</td>\n",
       "      <td>0.125</td>\n",
       "      <td>0.875</td>\n",
       "      <td>0.0</td>\n",
       "      <td>[0.0, 0.125, 0.875, 0.0]</td>\n",
       "      <td>0</td>\n",
       "      <td>0.0</td>\n",
       "      <td>1</td>\n",
       "    </tr>\n",
       "    <tr>\n",
       "      <th>4</th>\n",
       "      <td>και στα όρνια ολούθε —έτσι το θέλησε να γίνει ...</td>\n",
       "      <td>At Phœbus’ hands, by vengeful pray’r, he seeks</td>\n",
       "      <td>0.500</td>\n",
       "      <td>0.125</td>\n",
       "      <td>0.375</td>\n",
       "      <td>0.0</td>\n",
       "      <td>[0.5, 0.125, 0.375, 0.0]</td>\n",
       "      <td>2</td>\n",
       "      <td>2.0</td>\n",
       "      <td>2</td>\n",
       "    </tr>\n",
       "    <tr>\n",
       "      <th>...</th>\n",
       "      <td>...</td>\n",
       "      <td>...</td>\n",
       "      <td>...</td>\n",
       "      <td>...</td>\n",
       "      <td>...</td>\n",
       "      <td>...</td>\n",
       "      <td>...</td>\n",
       "      <td>...</td>\n",
       "      <td>...</td>\n",
       "      <td>...</td>\n",
       "    </tr>\n",
       "    <tr>\n",
       "      <th>606</th>\n",
       "      <td>κει που 'χε χτίσει στον καθένα τους παλάτι ο κ...</td>\n",
       "      <td>Address’d for sleep, where ev’ry one, with art...</td>\n",
       "      <td>0.375</td>\n",
       "      <td>0.625</td>\n",
       "      <td>0.000</td>\n",
       "      <td>0.0</td>\n",
       "      <td>[0.375, 0.625, 0.0, 0.0]</td>\n",
       "      <td>1</td>\n",
       "      <td>0.0</td>\n",
       "      <td>245</td>\n",
       "    </tr>\n",
       "    <tr>\n",
       "      <th>607</th>\n",
       "      <td>ο ξακουστός τεχνίτης Ήφαιστος, με τη σοφή του ...</td>\n",
       "      <td>By heav’n’s great both-foot-halting God a sev’...</td>\n",
       "      <td>0.250</td>\n",
       "      <td>0.750</td>\n",
       "      <td>0.000</td>\n",
       "      <td>0.0</td>\n",
       "      <td>[0.25, 0.75, 0.0, 0.0]</td>\n",
       "      <td>1</td>\n",
       "      <td>0.0</td>\n",
       "      <td>245</td>\n",
       "    </tr>\n",
       "    <tr>\n",
       "      <th>608</th>\n",
       "      <td>Κι ο Δίας ο Ολύμπιος, ό αστραπόχαρος, στην κλί...</td>\n",
       "      <td>Ev’n he to sleep went, by whose hand heav’n is...</td>\n",
       "      <td>0.250</td>\n",
       "      <td>0.750</td>\n",
       "      <td>0.000</td>\n",
       "      <td>0.0</td>\n",
       "      <td>[0.25, 0.75, 0.0, 0.0]</td>\n",
       "      <td>1</td>\n",
       "      <td>0.0</td>\n",
       "      <td>245</td>\n",
       "    </tr>\n",
       "    <tr>\n",
       "      <th>609</th>\n",
       "      <td>εκεί που ως τώρα πάντα, ως του 'ρχονταν ύπνος ...</td>\n",
       "      <td>High Jove, where he had us’d to rest when swee...</td>\n",
       "      <td>0.125</td>\n",
       "      <td>0.875</td>\n",
       "      <td>0.000</td>\n",
       "      <td>0.0</td>\n",
       "      <td>[0.125, 0.875, 0.0, 0.0]</td>\n",
       "      <td>1</td>\n",
       "      <td>0.0</td>\n",
       "      <td>245</td>\n",
       "    </tr>\n",
       "    <tr>\n",
       "      <th>610</th>\n",
       "      <td>κει πάνω ανέβη, κι η χρυσόθρονη σιμά του επλάγ...</td>\n",
       "      <td>By him the golden-thron’d Queen slept, the Que...</td>\n",
       "      <td>0.125</td>\n",
       "      <td>0.875</td>\n",
       "      <td>0.000</td>\n",
       "      <td>0.0</td>\n",
       "      <td>[0.125, 0.875, 0.0, 0.0]</td>\n",
       "      <td>1</td>\n",
       "      <td>0.0</td>\n",
       "      <td>245</td>\n",
       "    </tr>\n",
       "  </tbody>\n",
       "</table>\n",
       "<p>611 rows × 10 columns</p>\n",
       "</div>"
      ],
      "text/plain": [
       "                                            greek text  \\\n",
       "0    Τη μάνητα, θεά, τραγούδα μας του ξακουστού Αχι...   \n",
       "1    ανάθεμα τη, πίκρες που 'δωκε στους Αχαιούς περ...   \n",
       "2    και πλήθος αντρειωμένες έστειλε ψυχές στον Άδη...   \n",
       "3    παλικαριών, στους σκύλους ρίχνοντας να φάνε τα...   \n",
       "4    και στα όρνια ολούθε —έτσι το θέλησε να γίνει ...   \n",
       "..                                                 ...   \n",
       "606  κει που 'χε χτίσει στον καθένα τους παλάτι ο κ...   \n",
       "607  ο ξακουστός τεχνίτης Ήφαιστος, με τη σοφή του ...   \n",
       "608  Κι ο Δίας ο Ολύμπιος, ό αστραπόχαρος, στην κλί...   \n",
       "609  εκεί που ως τώρα πάντα, ως του 'ρχονταν ύπνος ...   \n",
       "610  κει πάνω ανέβη, κι η χρυσόθρονη σιμά του επλάγ...   \n",
       "\n",
       "                                          english text  neutral  positive  \\\n",
       "0       Apollo’s priest to th’ Argive fleet doth bring    0.375     0.500   \n",
       "1        Gifts for his daughter, pris’ner to the king;    0.125     0.250   \n",
       "2          For which her tender’d freedom he entreats;    0.000     0.125   \n",
       "3      But, being dismiss’d with contumelious threats,    0.000     0.125   \n",
       "4       At Phœbus’ hands, by vengeful pray’r, he seeks    0.500     0.125   \n",
       "..                                                 ...      ...       ...   \n",
       "606  Address’d for sleep, where ev’ry one, with art...    0.375     0.625   \n",
       "607  By heav’n’s great both-foot-halting God a sev’...    0.250     0.750   \n",
       "608  Ev’n he to sleep went, by whose hand heav’n is...    0.250     0.750   \n",
       "609  High Jove, where he had us’d to rest when swee...    0.125     0.875   \n",
       "610  By him the golden-thron’d Queen slept, the Que...    0.125     0.875   \n",
       "\n",
       "     negative  narrator                          y  class  diff  \\\n",
       "0       0.125       0.0   [0.375, 0.5, 0.125, 0.0]      1   0.0   \n",
       "1       0.625       0.0  [0.125, 0.25, 0.625, 0.0]      0  -1.0   \n",
       "2       0.875       0.0   [0.0, 0.125, 0.875, 0.0]      0   0.0   \n",
       "3       0.875       0.0   [0.0, 0.125, 0.875, 0.0]      0   0.0   \n",
       "4       0.375       0.0   [0.5, 0.125, 0.375, 0.0]      2   2.0   \n",
       "..        ...       ...                        ...    ...   ...   \n",
       "606     0.000       0.0   [0.375, 0.625, 0.0, 0.0]      1   0.0   \n",
       "607     0.000       0.0     [0.25, 0.75, 0.0, 0.0]      1   0.0   \n",
       "608     0.000       0.0     [0.25, 0.75, 0.0, 0.0]      1   0.0   \n",
       "609     0.000       0.0   [0.125, 0.875, 0.0, 0.0]      1   0.0   \n",
       "610     0.000       0.0   [0.125, 0.875, 0.0, 0.0]      1   0.0   \n",
       "\n",
       "     soma_acumulada  \n",
       "0                 0  \n",
       "1                 1  \n",
       "2                 1  \n",
       "3                 1  \n",
       "4                 2  \n",
       "..              ...  \n",
       "606             245  \n",
       "607             245  \n",
       "608             245  \n",
       "609             245  \n",
       "610             245  \n",
       "\n",
       "[611 rows x 10 columns]"
      ]
     },
     "execution_count": 124,
     "metadata": {},
     "output_type": "execute_result"
    }
   ],
   "source": [
    "df_class_numeric"
   ]
  },
  {
   "cell_type": "markdown",
   "id": "4290550f",
   "metadata": {
    "id": "4290550f"
   },
   "source": [
    "# Pre processing"
   ]
  },
  {
   "cell_type": "code",
   "execution_count": 11,
   "id": "8c8bd22a",
   "metadata": {
    "executionInfo": {
     "elapsed": 419,
     "status": "ok",
     "timestamp": 1674837798704,
     "user": {
      "displayName": "Rafael Oleques Nunes",
      "userId": "05604873930049794921"
     },
     "user_tz": 180
    },
    "id": "8c8bd22a"
   },
   "outputs": [],
   "source": [
    "import numpy as np"
   ]
  },
  {
   "cell_type": "markdown",
   "id": "86bb2363",
   "metadata": {
    "id": "86bb2363"
   },
   "source": [
    "**Target dict**"
   ]
  },
  {
   "cell_type": "markdown",
   "id": "8f412471",
   "metadata": {
    "id": "8f412471"
   },
   "source": [
    "**X & Y list**"
   ]
  },
  {
   "cell_type": "code",
   "execution_count": 14,
   "id": "c4f366f8",
   "metadata": {
    "executionInfo": {
     "elapsed": 524,
     "status": "ok",
     "timestamp": 1674842781932,
     "user": {
      "displayName": "Rafael Oleques Nunes",
      "userId": "05604873930049794921"
     },
     "user_tz": 180
    },
    "id": "c4f366f8"
   },
   "outputs": [],
   "source": [
    "X = df[\"greek text\"].tolist()\n",
    "y = np.array([target2id[y] for y in df[\"class\"].tolist()]) "
   ]
  },
  {
   "cell_type": "markdown",
   "id": "52c5e711",
   "metadata": {
    "id": "52c5e711"
   },
   "source": [
    "# TF-IDF"
   ]
  },
  {
   "cell_type": "markdown",
   "id": "d64e8e12",
   "metadata": {},
   "source": [
    "**Spliting k folds**"
   ]
  },
  {
   "cell_type": "code",
   "execution_count": 15,
   "id": "26f8a846",
   "metadata": {},
   "outputs": [],
   "source": [
    "folds = k_folds(X=X, y=y, k=4, shuffle=True)"
   ]
  },
  {
   "cell_type": "markdown",
   "id": "fe21e2fb",
   "metadata": {},
   "source": [
    "## Naive Bayes"
   ]
  },
  {
   "cell_type": "code",
   "execution_count": 16,
   "id": "751e7ea5",
   "metadata": {},
   "outputs": [
    {
     "name": "stdout",
     "output_type": "stream",
     "text": [
      "{'accuracy': 70.0, 'recall': 27.878812754456327, 'precision': 22.952227406340967}\n"
     ]
    },
    {
     "name": "stderr",
     "output_type": "stream",
     "text": [
      "C:\\Users\\Katia\\anaconda3\\envs\\illiad\\lib\\site-packages\\sklearn\\metrics\\_classification.py:1344: UndefinedMetricWarning: Precision is ill-defined and being set to 0.0 in labels with no predicted samples. Use `zero_division` parameter to control this behavior.\n",
      "  _warn_prf(average, modifier, msg_start, len(result))\n",
      "C:\\Users\\Katia\\anaconda3\\envs\\illiad\\lib\\site-packages\\sklearn\\metrics\\_classification.py:1344: UndefinedMetricWarning: Precision is ill-defined and being set to 0.0 in labels with no predicted samples. Use `zero_division` parameter to control this behavior.\n",
      "  _warn_prf(average, modifier, msg_start, len(result))\n",
      "C:\\Users\\Katia\\anaconda3\\envs\\illiad\\lib\\site-packages\\sklearn\\metrics\\_classification.py:1344: UndefinedMetricWarning: Precision is ill-defined and being set to 0.0 in labels with no predicted samples. Use `zero_division` parameter to control this behavior.\n",
      "  _warn_prf(average, modifier, msg_start, len(result))\n",
      "C:\\Users\\Katia\\anaconda3\\envs\\illiad\\lib\\site-packages\\sklearn\\metrics\\_classification.py:1344: UndefinedMetricWarning: Precision is ill-defined and being set to 0.0 in labels with no predicted samples. Use `zero_division` parameter to control this behavior.\n",
      "  _warn_prf(average, modifier, msg_start, len(result))\n"
     ]
    }
   ],
   "source": [
    "accuracy_list = []\n",
    "recall_list = []\n",
    "precision_list = []\n",
    "\n",
    "#Cross validation\n",
    "for (train_fold, test_fold) in folds:\n",
    "    #Train and test\n",
    "    X_train, y_train =  train_values(X, y, train_fold)\n",
    "    X_test, y_test =  test_values(X, y, test_fold)\n",
    "    \n",
    "    #Naive Bayes\n",
    "    text_nb = Pipeline([\n",
    "        ('vect', CountVectorizer()),\n",
    "        ('tfidf', TfidfTransformer()),\n",
    "        ('clf', MultinomialNB()),\n",
    "        ])\n",
    "\n",
    "    text_nb.fit(X_train, y_train)\n",
    "    predicted = text_nb.predict(X_test)\n",
    "\n",
    "    accuracy = accuracy_score(y_test, predicted, normalize=False)\n",
    "    recall = recall_score(y_test, predicted, average='macro') * 100\n",
    "    precision = precision_score(y_test, predicted, average='macro') * 100\n",
    "    \n",
    "    accuracy_list.append(accuracy)\n",
    "    recall_list.append(recall)\n",
    "    precision_list.append(precision)\n",
    "    \n",
    "nb_metrics = {}\n",
    "    \n",
    "nb_metrics[\"accuracy\"] = np.average(accuracy_list)\n",
    "nb_metrics[\"recall\"] = np.average(recall_list)\n",
    "nb_metrics[\"precision\"] = np.average(precision_list)\n",
    "\n",
    "print(nb_metrics)"
   ]
  },
  {
   "cell_type": "markdown",
   "id": "30a3d085",
   "metadata": {},
   "source": [
    "## Decision Tree"
   ]
  },
  {
   "cell_type": "code",
   "execution_count": 17,
   "id": "558adbc2",
   "metadata": {},
   "outputs": [
    {
     "name": "stdout",
     "output_type": "stream",
     "text": [
      "{'accuracy': 71.0, 'recall': 38.25535779644313, 'precision': 31.85613378123736}\n"
     ]
    },
    {
     "name": "stderr",
     "output_type": "stream",
     "text": [
      "C:\\Users\\Katia\\anaconda3\\envs\\illiad\\lib\\site-packages\\sklearn\\metrics\\_classification.py:1344: UndefinedMetricWarning: Precision is ill-defined and being set to 0.0 in labels with no predicted samples. Use `zero_division` parameter to control this behavior.\n",
      "  _warn_prf(average, modifier, msg_start, len(result))\n",
      "C:\\Users\\Katia\\anaconda3\\envs\\illiad\\lib\\site-packages\\sklearn\\metrics\\_classification.py:1344: UndefinedMetricWarning: Precision is ill-defined and being set to 0.0 in labels with no predicted samples. Use `zero_division` parameter to control this behavior.\n",
      "  _warn_prf(average, modifier, msg_start, len(result))\n"
     ]
    }
   ],
   "source": [
    "accuracy_list = []\n",
    "recall_list = []\n",
    "precision_list = []\n",
    "\n",
    "#Cross validation\n",
    "for (train_fold, test_fold) in folds:\n",
    "    #Train and test\n",
    "    X_train, y_train =  train_values(X, y, train_fold)\n",
    "    X_test, y_test =  test_values(X, y, test_fold)\n",
    "    \n",
    "    text_tree = Pipeline([\n",
    "    ('vect', CountVectorizer()),\n",
    "    ('tfidf', TfidfTransformer()),\n",
    "    ('clf', DecisionTreeClassifier(max_depth=5,class_weight='balanced',random_state=42)),\n",
    "    ])\n",
    "\n",
    "    text_tree.fit(X_train, y_train)\n",
    "    predicted = text_tree.predict(X_test)\n",
    "\n",
    "    accuracy = accuracy_score(y_test, predicted, normalize=False)\n",
    "    recall = recall_score(y_test, predicted, average='macro') * 100\n",
    "    precision = precision_score(y_test, predicted, average='macro') * 100\n",
    "    \n",
    "    accuracy_list.append(accuracy)\n",
    "    recall_list.append(recall)\n",
    "    precision_list.append(precision)\n",
    "\n",
    "dt_metrics = {}\n",
    "    \n",
    "dt_metrics[\"accuracy\"] = np.average(accuracy_list)\n",
    "dt_metrics[\"recall\"] = np.average(recall_list)\n",
    "dt_metrics[\"precision\"] = np.average(precision_list)\n",
    "\n",
    "print(dt_metrics)"
   ]
  },
  {
   "cell_type": "markdown",
   "id": "62e67199",
   "metadata": {},
   "source": [
    "## KNN"
   ]
  },
  {
   "cell_type": "code",
   "execution_count": 18,
   "id": "929b7d41",
   "metadata": {},
   "outputs": [
    {
     "name": "stdout",
     "output_type": "stream",
     "text": [
      "{'accuracy': 73.75, 'recall': 37.146898071695425, 'precision': 43.063354945958416}\n"
     ]
    }
   ],
   "source": [
    "accuracy_list = []\n",
    "recall_list = []\n",
    "precision_list = []\n",
    "\n",
    "#Cross validation\n",
    "for (train_fold, test_fold) in folds:\n",
    "    #Train and test\n",
    "    X_train, y_train =  train_values(X, y, train_fold)\n",
    "    X_test, y_test =  test_values(X, y, test_fold)\n",
    "    \n",
    "    text_knn = Pipeline([\n",
    "        ('vect', CountVectorizer()),\n",
    "        ('tfidf', TfidfTransformer()),\n",
    "        ('clf', KNeighborsClassifier(n_neighbors=5)),\n",
    "    ])\n",
    "\n",
    "    text_knn.fit(X_train, y_train)\n",
    "    predicted = text_knn.predict(X_test)\n",
    "\n",
    "    accuracy = accuracy_score(y_test, predicted, normalize=False)\n",
    "    recall = recall_score(y_test, predicted, average='macro') * 100\n",
    "    precision = precision_score(y_test, predicted, average='macro') * 100\n",
    "    \n",
    "    accuracy_list.append(accuracy)\n",
    "    recall_list.append(recall)\n",
    "    precision_list.append(precision)\n",
    "\n",
    "knn_metrics = {}\n",
    "    \n",
    "knn_metrics[\"accuracy\"] = np.average(accuracy_list)\n",
    "knn_metrics[\"recall\"] = np.average(recall_list)\n",
    "knn_metrics[\"precision\"] = np.average(precision_list)\n",
    "\n",
    "print(knn_metrics)"
   ]
  },
  {
   "cell_type": "code",
   "execution_count": null,
   "id": "27e920ff",
   "metadata": {},
   "outputs": [],
   "source": []
  },
  {
   "cell_type": "markdown",
   "id": "06d66b91",
   "metadata": {
    "id": "cDE_0zgIE-RT"
   },
   "source": [
    "# SBERT"
   ]
  },
  {
   "cell_type": "code",
   "execution_count": 19,
   "id": "e5b9069a",
   "metadata": {
    "colab": {
     "base_uri": "https://localhost:8080/"
    },
    "executionInfo": {
     "elapsed": 7302,
     "status": "ok",
     "timestamp": 1674842793880,
     "user": {
      "displayName": "Rafael Oleques Nunes",
      "userId": "05604873930049794921"
     },
     "user_tz": 180
    },
    "id": "sfc1PCwSFBcB",
    "outputId": "f21bc030-fc85-4089-f383-977a8e2001f2"
   },
   "outputs": [],
   "source": [
    "#!pip install -U sentence-transformers"
   ]
  },
  {
   "cell_type": "code",
   "execution_count": 20,
   "id": "bed8fd5c",
   "metadata": {
    "executionInfo": {
     "elapsed": 6545,
     "status": "ok",
     "timestamp": 1674842800421,
     "user": {
      "displayName": "Rafael Oleques Nunes",
      "userId": "05604873930049794921"
     },
     "user_tz": 180
    },
    "id": "lbbhvViUFFN5"
   },
   "outputs": [
    {
     "name": "stderr",
     "output_type": "stream",
     "text": [
      "C:\\Users\\Katia\\anaconda3\\envs\\illiad\\lib\\site-packages\\tqdm\\auto.py:22: TqdmWarning: IProgress not found. Please update jupyter and ipywidgets. See https://ipywidgets.readthedocs.io/en/stable/user_install.html\n",
      "  from .autonotebook import tqdm as notebook_tqdm\n"
     ]
    }
   ],
   "source": [
    "from sentence_transformers import SentenceTransformer\n",
    "model = SentenceTransformer('lighteternal/stsb-xlm-r-greek-transfer')"
   ]
  },
  {
   "cell_type": "code",
   "execution_count": 21,
   "id": "533795ed",
   "metadata": {
    "executionInfo": {
     "elapsed": 74502,
     "status": "ok",
     "timestamp": 1674842874922,
     "user": {
      "displayName": "Rafael Oleques Nunes",
      "userId": "05604873930049794921"
     },
     "user_tz": 180
    },
    "id": "4gZhf9_6GFkZ"
   },
   "outputs": [],
   "source": [
    "X_train_sbert = model.encode(X_train)\n",
    "X_test_sbert = model.encode(X_test)"
   ]
  },
  {
   "cell_type": "markdown",
   "id": "82c0842f",
   "metadata": {},
   "source": [
    "## Decision Tree"
   ]
  },
  {
   "cell_type": "code",
   "execution_count": 23,
   "id": "1ae426aa",
   "metadata": {},
   "outputs": [
    {
     "name": "stdout",
     "output_type": "stream",
     "text": [
      "{'accuracy': 55.25, 'recall': 34.04707097271422, 'precision': 32.966533811799266}\n"
     ]
    }
   ],
   "source": [
    "accuracy_list = []\n",
    "recall_list = []\n",
    "precision_list = []\n",
    "\n",
    "#Cross validation\n",
    "for (train_fold, test_fold) in folds:\n",
    "    #Train and test\n",
    "    X_train, y_train =  train_values(X, y, train_fold)\n",
    "    X_test, y_test =  test_values(X, y, test_fold)\n",
    "    \n",
    "    X_train_sbert = model.encode(X_train)\n",
    "    X_test_sbert = model.encode(X_test)\n",
    "    \n",
    "    text_dt = DecisionTreeClassifier(max_depth=5,class_weight='balanced',random_state=42)\n",
    "    text_dt.fit(X_train_sbert, y_train)\n",
    "    predicted = text_dt.predict(X_test_sbert)\n",
    "\n",
    "    accuracy = accuracy_score(y_test, predicted, normalize=False)\n",
    "    recall = recall_score(y_test, predicted, average='macro') * 100\n",
    "    precision = precision_score(y_test, predicted, average='macro') * 100\n",
    "    \n",
    "    accuracy_list.append(accuracy)\n",
    "    recall_list.append(recall)\n",
    "    precision_list.append(precision)\n",
    "    \n",
    "dt_metrics = {}\n",
    "    \n",
    "dt_metrics[\"accuracy\"] = np.average(accuracy_list)\n",
    "dt_metrics[\"recall\"] = np.average(recall_list)\n",
    "dt_metrics[\"precision\"] = np.average(precision_list)\n",
    "\n",
    "print(dt_metrics)"
   ]
  },
  {
   "cell_type": "code",
   "execution_count": null,
   "id": "0d7c78b6",
   "metadata": {},
   "outputs": [],
   "source": []
  },
  {
   "cell_type": "code",
   "execution_count": null,
   "id": "95a2c955",
   "metadata": {},
   "outputs": [],
   "source": []
  },
  {
   "cell_type": "markdown",
   "id": "a25d26f4",
   "metadata": {},
   "source": [
    "# CÓDIGOS DE EXEMPLO"
   ]
  },
  {
   "cell_type": "markdown",
   "id": "be33a34d",
   "metadata": {
    "id": "iqhrqFVVYzNo"
   },
   "source": [
    "### Functions to greek text\n",
    "\n",
    "Não está funcionando"
   ]
  },
  {
   "cell_type": "code",
   "execution_count": null,
   "id": "b11377bb",
   "metadata": {
    "colab": {
     "base_uri": "https://localhost:8080/"
    },
    "executionInfo": {
     "elapsed": 9231,
     "status": "ok",
     "timestamp": 1674842544256,
     "user": {
      "displayName": "Rafael Oleques Nunes",
      "userId": "05604873930049794921"
     },
     "user_tz": 180
    },
    "id": "ikNIFA8IYxWq",
    "outputId": "3025f14d-108d-49c9-ddca-464f2dea17d9"
   },
   "outputs": [],
   "source": [
    "!pip install cltk"
   ]
  },
  {
   "cell_type": "code",
   "execution_count": null,
   "id": "ed2d9a34",
   "metadata": {
    "executionInfo": {
     "elapsed": 471,
     "status": "ok",
     "timestamp": 1674842674067,
     "user": {
      "displayName": "Rafael Oleques Nunes",
      "userId": "05604873930049794921"
     },
     "user_tz": 180
    },
    "id": "FZADkht9TMiI"
   },
   "outputs": [],
   "source": [
    "from cltk.stem.lemma import LemmaReplacer\n",
    "#from cltk.corpus.utils.formatter import cltk_normalize"
   ]
  },
  {
   "cell_type": "code",
   "execution_count": null,
   "id": "891addac",
   "metadata": {
    "colab": {
     "base_uri": "https://localhost:8080/",
     "height": 276
    },
    "executionInfo": {
     "elapsed": 6,
     "status": "error",
     "timestamp": 1674842709709,
     "user": {
      "displayName": "Rafael Oleques Nunes",
      "userId": "05604873930049794921"
     },
     "user_tz": 180
    },
    "id": "-aX-L1qKZ4Ox",
    "outputId": "02ada981-dd8c-47f2-ddfe-a68285bea578"
   },
   "outputs": [],
   "source": [
    "from cltk.stem.lemma import LemmaReplacer\n",
    "sentence = 'λόγων λογίων'\n",
    "lemmatizer = LemmaReplacer('greek')\n",
    "lemmatizer.lemmatize(sentence, return_raw=True)"
   ]
  },
  {
   "cell_type": "markdown",
   "id": "16c8b157",
   "metadata": {
    "id": "5c1582df"
   },
   "source": [
    "## TF-IDF"
   ]
  },
  {
   "cell_type": "code",
   "execution_count": null,
   "id": "2538cccf",
   "metadata": {
    "executionInfo": {
     "elapsed": 1,
     "status": "ok",
     "timestamp": 1674842786045,
     "user": {
      "displayName": "Rafael Oleques Nunes",
      "userId": "05604873930049794921"
     },
     "user_tz": 180
    },
    "id": "e763a9b5"
   },
   "outputs": [],
   "source": [
    "from sklearn.feature_extraction.text import CountVectorizer\n",
    "from sklearn.feature_extraction.text import TfidfTransformer"
   ]
  },
  {
   "cell_type": "markdown",
   "id": "16b09b5b",
   "metadata": {
    "id": "f1b1c419"
   },
   "source": [
    "**Bag of Words**"
   ]
  },
  {
   "cell_type": "code",
   "execution_count": null,
   "id": "4f79cc2d",
   "metadata": {
    "colab": {
     "base_uri": "https://localhost:8080/"
    },
    "executionInfo": {
     "elapsed": 4,
     "status": "ok",
     "timestamp": 1674842786579,
     "user": {
      "displayName": "Rafael Oleques Nunes",
      "userId": "05604873930049794921"
     },
     "user_tz": 180
    },
    "id": "2aff116a",
    "outputId": "ea49631b-daed-47e4-96c2-20311a42378b"
   },
   "outputs": [],
   "source": [
    "count_vect = CountVectorizer()\n",
    "\n",
    "X_train_counts = count_vect.fit_transform(X_train)\n",
    "X_test_counts = count_vect.fit_transform(X_test)\n",
    "X_train_counts.shape"
   ]
  },
  {
   "cell_type": "markdown",
   "id": "f58701d3",
   "metadata": {
    "id": "da0f8e07"
   },
   "source": [
    "**TF-IDF**"
   ]
  },
  {
   "cell_type": "code",
   "execution_count": null,
   "id": "b7f6974f",
   "metadata": {
    "colab": {
     "base_uri": "https://localhost:8080/"
    },
    "executionInfo": {
     "elapsed": 3,
     "status": "ok",
     "timestamp": 1674842786579,
     "user": {
      "displayName": "Rafael Oleques Nunes",
      "userId": "05604873930049794921"
     },
     "user_tz": 180
    },
    "id": "bf0014c2",
    "outputId": "4319232a-fa9b-4054-b44c-d6c7c7ebf0d6"
   },
   "outputs": [],
   "source": [
    "tfidf_transformer = TfidfTransformer()\n",
    "X_train_tfidf = tfidf_transformer.fit_transform(X_train_counts)\n",
    "X_test_tfidf = tfidf_transformer.fit_transform(X_test_counts)\n",
    "X_train_tfidf.shape"
   ]
  },
  {
   "cell_type": "code",
   "execution_count": null,
   "id": "38aee587",
   "metadata": {},
   "outputs": [],
   "source": [
    "def get_bow(X_train, X_test):\n",
    "    count_vect = CountVectorizer()\n",
    "    X_train_counts = count_vect.fit_transform(X_train)\n",
    "    X_test_counts = count_vect.fit_transform(X_test)\n",
    "    \n",
    "    return X_train_counts, X_test_counts"
   ]
  },
  {
   "cell_type": "code",
   "execution_count": null,
   "id": "4904f40f",
   "metadata": {},
   "outputs": [],
   "source": [
    "def get_tfidf(X_train, X_test):\n",
    "    X_train_counts, X_test_counts = get_bow(X_train, X_test)\n",
    "    \n",
    "    tfidf_transformer = TfidfTransformer()\n",
    "    \n",
    "    X_train_tfidf = tfidf_transformer.fit_transform(X_train_counts)\n",
    "    X_test_tfidf = tfidf_transformer.fit_transform(X_test_counts)\n",
    "    \n",
    "    return X_train_tfidf, X_test_tfidf"
   ]
  },
  {
   "cell_type": "markdown",
   "id": "397376cb",
   "metadata": {
    "id": "e6dc2757"
   },
   "source": [
    "### Testar com lematização e stemming\n",
    "\n",
    "Sugestões que encontrei:\n",
    "- https://legacy.cltk.org/en/latest/greek.html#lemmatization\n",
    "- https://github.com/kpech21/Greek-Stemmer"
   ]
  },
  {
   "cell_type": "code",
   "execution_count": null,
   "id": "6c959282",
   "metadata": {
    "executionInfo": {
     "elapsed": 3,
     "status": "ok",
     "timestamp": 1674842786580,
     "user": {
      "displayName": "Rafael Oleques Nunes",
      "userId": "05604873930049794921"
     },
     "user_tz": 180
    },
    "id": "281938f6"
   },
   "outputs": [],
   "source": []
  },
  {
   "cell_type": "markdown",
   "id": "2d8f79d3",
   "metadata": {
    "id": "tFqkf3yXKj7Q"
   },
   "source": [
    "# UMAP\n",
    "\n",
    "Diminuir a dimensionalidade do SBERT"
   ]
  },
  {
   "cell_type": "code",
   "execution_count": null,
   "id": "d0086a37",
   "metadata": {
    "colab": {
     "base_uri": "https://localhost:8080/"
    },
    "executionInfo": {
     "elapsed": 3993,
     "status": "ok",
     "timestamp": 1674842878904,
     "user": {
      "displayName": "Rafael Oleques Nunes",
      "userId": "05604873930049794921"
     },
     "user_tz": 180
    },
    "id": "JL3fWqHnJvWq",
    "outputId": "e06e2fbb-dd05-407a-ce7f-b425524b5945"
   },
   "outputs": [],
   "source": [
    "!pip install umap-learn"
   ]
  },
  {
   "cell_type": "code",
   "execution_count": null,
   "id": "cd808722",
   "metadata": {
    "executionInfo": {
     "elapsed": 4,
     "status": "ok",
     "timestamp": 1674842878904,
     "user": {
      "displayName": "Rafael Oleques Nunes",
      "userId": "05604873930049794921"
     },
     "user_tz": 180
    },
    "id": "fVveiBKeJ8dx"
   },
   "outputs": [],
   "source": [
    "import umap"
   ]
  },
  {
   "cell_type": "code",
   "execution_count": null,
   "id": "82c61c64",
   "metadata": {
    "executionInfo": {
     "elapsed": 9220,
     "status": "ok",
     "timestamp": 1674842888121,
     "user": {
      "displayName": "Rafael Oleques Nunes",
      "userId": "05604873930049794921"
     },
     "user_tz": 180
    },
    "id": "RUMg2xH2Js2i"
   },
   "outputs": [],
   "source": [
    "X_umap_train = umap.UMAP().fit_transform(X_train_sbert)\n",
    "X_umap_test = umap.UMAP().fit_transform(X_test_sbert)"
   ]
  },
  {
   "cell_type": "markdown",
   "id": "475a956f",
   "metadata": {},
   "source": [
    "# Naive Bayes"
   ]
  },
  {
   "cell_type": "code",
   "execution_count": null,
   "id": "00428132",
   "metadata": {
    "colab": {
     "base_uri": "https://localhost:8080/"
    },
    "executionInfo": {
     "elapsed": 14,
     "status": "ok",
     "timestamp": 1674842888122,
     "user": {
      "displayName": "Rafael Oleques Nunes",
      "userId": "05604873930049794921"
     },
     "user_tz": 180
    },
    "id": "00428132",
    "outputId": "a11049dc-3fe8-4896-b854-ea9fabab7b85"
   },
   "outputs": [],
   "source": [
    "#TF-IDF\n",
    "\n",
    "text_clf = Pipeline([\n",
    "    ('vect', CountVectorizer()),\n",
    "    ('tfidf', TfidfTransformer()),\n",
    "    ('clf', MultinomialNB()),\n",
    "])\n",
    "\n",
    "text_clf.fit(X_train, y_train)\n",
    "predicted = text_clf.predict(X_test)\n",
    "\n",
    "accuracy = accuracy_score(y_test, predicted, normalize=False)\n",
    "recall = recall_score(y_test, predicted, average='macro') * 100\n",
    "precision = precision_score(y_test, predicted, average='macro') * 100\n",
    "\n",
    "print(\"==== TF-IDF ====\")\n",
    "print(f\"Accuracy: {accuracy}%\")\n",
    "print(f\"Recall: {recall}%\")\n",
    "print(f\"Precision: {precision}%\")"
   ]
  },
  {
   "cell_type": "code",
   "execution_count": null,
   "id": "efff924d",
   "metadata": {
    "colab": {
     "base_uri": "https://localhost:8080/",
     "height": 380
    },
    "executionInfo": {
     "elapsed": 551,
     "status": "error",
     "timestamp": 1674842888662,
     "user": {
      "displayName": "Rafael Oleques Nunes",
      "userId": "05604873930049794921"
     },
     "user_tz": 180
    },
    "id": "efff924d",
    "outputId": "93020b31-59b1-4bc6-e445-dda6b536e072"
   },
   "outputs": [],
   "source": [
    "#SBERT\n",
    "\n",
    "text_clf = MultinomialNB()\n",
    "text_clf.fit(X_train_sbert, y_train)\n",
    "predicted = text_clf.predict(X_test_sbert)\n",
    "\n",
    "accuracy = accuracy_score(y_test, predicted, normalize=False)\n",
    "recall = recall_score(y_test, predicted, average='macro') * 100\n",
    "precision = precision_score(y_test, predicted, average='macro') * 100\n",
    "\n",
    "print(\"==== SBERT ====\")\n",
    "print(f\"Accuracy: {accuracy}%\")\n",
    "print(f\"Recall: {recall}%\")\n",
    "print(f\"Precision: {precision}%\")"
   ]
  },
  {
   "cell_type": "code",
   "execution_count": null,
   "id": "98rREBwBLJBC",
   "metadata": {
    "executionInfo": {
     "elapsed": 6,
     "status": "aborted",
     "timestamp": 1674842888662,
     "user": {
      "displayName": "Rafael Oleques Nunes",
      "userId": "05604873930049794921"
     },
     "user_tz": 180
    },
    "id": "98rREBwBLJBC"
   },
   "outputs": [],
   "source": [
    "#SBERT > UMAP\n",
    "\n",
    "text_clf = MultinomialNB()\n",
    "text_clf.fit(X_umap_train, y_train)\n",
    "predicted = text_clf.predict(X_umap_test)\n",
    "\n",
    "accuracy = accuracy_score(y_test, predicted, normalize=False)\n",
    "recall = recall_score(y_test, predicted, average='macro') * 100\n",
    "precision = precision_score(y_test, predicted, average='macro') * 100\n",
    "\n",
    "print(\"==== SBERT > UMAP ====\")\n",
    "print(f\"Accuracy: {accuracy}%\")\n",
    "print(f\"Recall: {recall}%\")\n",
    "print(f\"Precision: {precision}%\")"
   ]
  },
  {
   "cell_type": "markdown",
   "id": "fc12a333",
   "metadata": {
    "id": "fc12a333"
   },
   "source": [
    "## Decision tree"
   ]
  },
  {
   "cell_type": "code",
   "execution_count": null,
   "id": "T-UIIzD-JINC",
   "metadata": {
    "executionInfo": {
     "elapsed": 6,
     "status": "aborted",
     "timestamp": 1674842888663,
     "user": {
      "displayName": "Rafael Oleques Nunes",
      "userId": "05604873930049794921"
     },
     "user_tz": 180
    },
    "id": "T-UIIzD-JINC"
   },
   "outputs": [],
   "source": [
    "from sklearn.tree import DecisionTreeClassifier\n"
   ]
  },
  {
   "cell_type": "code",
   "execution_count": null,
   "id": "466cf10b",
   "metadata": {
    "executionInfo": {
     "elapsed": 6,
     "status": "aborted",
     "timestamp": 1674842888663,
     "user": {
      "displayName": "Rafael Oleques Nunes",
      "userId": "05604873930049794921"
     },
     "user_tz": 180
    },
    "id": "466cf10b"
   },
   "outputs": [],
   "source": [
    "#TF-IDF\n",
    "\n",
    "text_tree = Pipeline([\n",
    "    ('vect', CountVectorizer()),\n",
    "    ('tfidf', TfidfTransformer()),\n",
    "    ('clf', DecisionTreeClassifier(max_depth=5,class_weight='balanced',random_state=42)),\n",
    "])\n",
    "\n",
    "text_tree.fit(X_train, y_train)\n",
    "predicted = text_tree.predict(X_test)\n",
    "\n",
    "accuracy = accuracy_score(y_test, predicted, normalize=False)\n",
    "recall = recall_score(y_test, predicted, average='macro') * 100\n",
    "precision = precision_score(y_test, predicted, average='macro') * 100\n",
    "\n",
    "print(\"==== TF-IDF ====\")\n",
    "print(f\"Accuracy: {accuracy}%\")\n",
    "print(f\"Recall: {recall}%\")\n",
    "print(f\"Precision: {precision}%\")"
   ]
  },
  {
   "cell_type": "code",
   "execution_count": null,
   "id": "u3lwF4EnI1zB",
   "metadata": {
    "executionInfo": {
     "elapsed": 6,
     "status": "aborted",
     "timestamp": 1674842888664,
     "user": {
      "displayName": "Rafael Oleques Nunes",
      "userId": "05604873930049794921"
     },
     "user_tz": 180
    },
    "id": "u3lwF4EnI1zB"
   },
   "outputs": [],
   "source": [
    "#SBERT\n",
    "\n",
    "text_tree = DecisionTreeClassifier(max_depth=5,class_weight='balanced',random_state=42)\n",
    "text_tree.fit(X_train_sbert, y_train)\n",
    "predicted = text_tree.predict(X_test_sbert)\n",
    "\n",
    "accuracy = accuracy_score(y_test, predicted, normalize=False)\n",
    "recall = recall_score(y_test, predicted, average='macro') * 100\n",
    "precision = precision_score(y_test, predicted, average='macro') * 100\n",
    "\n",
    "print(\"==== SBERT ====\")\n",
    "print(f\"Accuracy: {accuracy}%\")\n",
    "print(f\"Recall: {recall}%\")\n",
    "print(f\"Precision: {precision}%\")"
   ]
  },
  {
   "cell_type": "code",
   "execution_count": null,
   "id": "97X9_ZxpLPfh",
   "metadata": {
    "executionInfo": {
     "elapsed": 6,
     "status": "aborted",
     "timestamp": 1674842888664,
     "user": {
      "displayName": "Rafael Oleques Nunes",
      "userId": "05604873930049794921"
     },
     "user_tz": 180
    },
    "id": "97X9_ZxpLPfh"
   },
   "outputs": [],
   "source": [
    "#SBERT > UMAP\n",
    "\n",
    "text_tree = DecisionTreeClassifier(max_depth=5,class_weight='balanced',random_state=42)\n",
    "text_tree.fit(X_umap_train, y_train)\n",
    "predicted = text_tree.predict(X_umap_test)\n",
    "\n",
    "accuracy = accuracy_score(y_test, predicted, normalize=False)\n",
    "recall = recall_score(y_test, predicted, average='macro') * 100\n",
    "precision = precision_score(y_test, predicted, average='macro') * 100\n",
    "\n",
    "print(\"==== SBERT > UMAP ====\")\n",
    "print(f\"Accuracy: {accuracy}%\")\n",
    "print(f\"Recall: {recall}%\")\n",
    "print(f\"Precision: {precision}%\")"
   ]
  },
  {
   "cell_type": "markdown",
   "id": "2d6e7533",
   "metadata": {
    "id": "2d6e7533"
   },
   "source": [
    "### KNN"
   ]
  },
  {
   "cell_type": "code",
   "execution_count": null,
   "id": "20332906",
   "metadata": {
    "executionInfo": {
     "elapsed": 6,
     "status": "aborted",
     "timestamp": 1674842888664,
     "user": {
      "displayName": "Rafael Oleques Nunes",
      "userId": "05604873930049794921"
     },
     "user_tz": 180
    },
    "id": "20332906"
   },
   "outputs": [],
   "source": [
    "from sklearn.neighbors import KNeighborsClassifier"
   ]
  },
  {
   "cell_type": "code",
   "execution_count": null,
   "id": "A2rkts-vJpRx",
   "metadata": {
    "executionInfo": {
     "elapsed": 5,
     "status": "aborted",
     "timestamp": 1674842888664,
     "user": {
      "displayName": "Rafael Oleques Nunes",
      "userId": "05604873930049794921"
     },
     "user_tz": 180
    },
    "id": "A2rkts-vJpRx"
   },
   "outputs": [],
   "source": [
    "text_knn = Pipeline([\n",
    "    ('vect', CountVectorizer()),\n",
    "    ('tfidf', TfidfTransformer()),\n",
    "    ('clf', KNeighborsClassifier(n_neighbors=5)),\n",
    "])\n",
    "\n",
    "text_knn.fit(X_train, y_train)\n",
    "predicted = text_knn.predict(X_test)\n",
    "\n",
    "accuracy = accuracy_score(y_test, predicted, normalize=False)\n",
    "recall = recall_score(y_test, predicted, average='macro') * 100\n",
    "precision = precision_score(y_test, predicted, average='macro') * 100\n",
    "\n",
    "print(\"==== TF-IDF ====\")\n",
    "print(f\"Accuracy: {accuracy}%\")\n",
    "print(f\"Recall: {recall}%\")\n",
    "print(f\"Precision: {precision}%\")"
   ]
  },
  {
   "cell_type": "markdown",
   "id": "UpcJJa5pJgRa",
   "metadata": {
    "id": "UpcJJa5pJgRa"
   },
   "source": [
    "Normalizar e diminuir a dimensionalidade"
   ]
  },
  {
   "cell_type": "code",
   "execution_count": null,
   "id": "656b9c94",
   "metadata": {
    "executionInfo": {
     "elapsed": 6,
     "status": "aborted",
     "timestamp": 1674842888665,
     "user": {
      "displayName": "Rafael Oleques Nunes",
      "userId": "05604873930049794921"
     },
     "user_tz": 180
    },
    "id": "656b9c94"
   },
   "outputs": [],
   "source": [
    "#SBERT\n",
    "\n",
    "text_knn = KNeighborsClassifier(n_neighbors=5)\n",
    "text_knn.fit(X_train_sbert, y_train)\n",
    "predicted = text_knn.predict(X_test_sbert)\n",
    "\n",
    "accuracy = accuracy_score(y_test, predicted, normalize=False)\n",
    "recall = recall_score(y_test, predicted, average='macro') * 100\n",
    "precision = precision_score(y_test, predicted, average='macro') * 100\n",
    "\n",
    "print(\"==== SBERT ====\")\n",
    "print(f\"Accuracy: {accuracy}%\")\n",
    "print(f\"Recall: {recall}%\")\n",
    "print(f\"Precision: {precision}%\")"
   ]
  },
  {
   "cell_type": "code",
   "execution_count": null,
   "id": "Gk6ETGsOJv-H",
   "metadata": {
    "executionInfo": {
     "elapsed": 6,
     "status": "aborted",
     "timestamp": 1674842888665,
     "user": {
      "displayName": "Rafael Oleques Nunes",
      "userId": "05604873930049794921"
     },
     "user_tz": 180
    },
    "id": "Gk6ETGsOJv-H"
   },
   "outputs": [],
   "source": [
    "#SBERT > UMAP\n",
    "\n",
    "text_knn = KNeighborsClassifier(n_neighbors=5)\n",
    "text_knn.fit(X_umap_train, y_train)\n",
    "predicted = text_knn.predict(X_umap_test)\n",
    "\n",
    "accuracy = accuracy_score(y_test, predicted, normalize=False)\n",
    "recall = recall_score(y_test, predicted, average='macro') * 100\n",
    "precision = precision_score(y_test, predicted, average='macro') * 100\n",
    "\n",
    "print(\"==== SBERT > UMAP ====\")\n",
    "print(f\"Accuracy: {accuracy}%\")\n",
    "print(f\"Recall: {recall}%\")\n",
    "print(f\"Precision: {precision}%\")"
   ]
  },
  {
   "cell_type": "code",
   "execution_count": null,
   "id": "RNEmUB9kKMhY",
   "metadata": {
    "executionInfo": {
     "elapsed": 6,
     "status": "aborted",
     "timestamp": 1674842888665,
     "user": {
      "displayName": "Rafael Oleques Nunes",
      "userId": "05604873930049794921"
     },
     "user_tz": 180
    },
    "id": "RNEmUB9kKMhY"
   },
   "outputs": [],
   "source": []
  }
 ],
 "metadata": {
  "colab": {
   "collapsed_sections": [
    "iqhrqFVVYzNo"
   ],
   "provenance": []
  },
  "kernelspec": {
   "display_name": "Python 3 (ipykernel)",
   "language": "python",
   "name": "python3"
  },
  "language_info": {
   "codemirror_mode": {
    "name": "ipython",
    "version": 3
   },
   "file_extension": ".py",
   "mimetype": "text/x-python",
   "name": "python",
   "nbconvert_exporter": "python",
   "pygments_lexer": "ipython3",
   "version": "3.8.16"
  }
 },
 "nbformat": 4,
 "nbformat_minor": 5
}
