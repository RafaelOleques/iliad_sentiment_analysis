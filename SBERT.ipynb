{
 "cells": [
  {
   "cell_type": "code",
   "execution_count": null,
   "id": "29b6b843-df2e-42ca-925b-6282904ccd19",
   "metadata": {},
   "outputs": [],
   "source": [
    "from trainer import Trainer"
   ]
  },
  {
   "cell_type": "code",
   "execution_count": null,
   "id": "dc17e02e-7b01-44d1-9798-ef969744c090",
   "metadata": {},
   "outputs": [],
   "source": [
    "from sklearn.ensemble import RandomForestClassifier\n",
    "from sklearn.tree import DecisionTreeClassifier\n",
    "from sklearn.neighbors import KNeighborsClassifier"
   ]
  },
  {
   "cell_type": "code",
   "execution_count": null,
   "id": "f4a98125-4ea1-4013-8825-e674abbe706d",
   "metadata": {},
   "outputs": [],
   "source": [
    "import matplotlib.pyplot as plt"
   ]
  },
  {
   "cell_type": "markdown",
   "id": "5566271c-8c2c-4122-a888-e465cb8cfe18",
   "metadata": {},
   "source": [
    "# Setup"
   ]
  },
  {
   "cell_type": "code",
   "execution_count": null,
   "id": "5488e3b9-8786-4e87-9419-5f87396c7ace",
   "metadata": {},
   "outputs": [],
   "source": [
    "path = \"./data/iliad_sentiments.csv\"\n",
    "target = \"class\""
   ]
  },
  {
   "cell_type": "code",
   "execution_count": null,
   "id": "89a01f5b-1358-4eec-99a8-5281af79e851",
   "metadata": {},
   "outputs": [],
   "source": [
    "scenarios = {\n",
    "    \"TF-IDF sem lematização\": {\"lemmatize\": False, \"sbert\": False},\n",
    "    \"TF-IDF com lematização\": {\"lemmatize\": True, \"sbert\": False},\n",
    "    \"SBERT com lematização\": {\"lemmatize\": False, \"sbert\": True},\n",
    "           }\n",
    "'''\n",
    "scenarios = {\n",
    "    \"TF-IDF sem lematização\": {\"lemmatize\": False, \"sbert\": False},\n",
    "    \"TF-IDF com lematização\": {\"lemmatize\": True, \"sbert\": False}\n",
    "           }\n",
    "'''\n",
    "classifiers = {\n",
    "    \"Decision Tree\": DecisionTreeClassifier(), \n",
    "    \"KNN\": KNeighborsClassifier(),\n",
    "    \"Random Forest\": RandomForestClassifier()\n",
    "}\n",
    "\n",
    "STANDARD = \"Sem modificação\"\n",
    "WITHOUT_NARRATOR = \"Sem narrador\"\n",
    "MERGE_NARRATOR_NEUTRAL = \"Junção de narrador e neutro\"\n",
    "\n",
    "data_operations = [STANDARD, WITHOUT_NARRATOR, MERGE_NARRATOR_NEUTRAL]\n",
    "\n",
    "nro_folds = 5"
   ]
  },
  {
   "cell_type": "markdown",
   "id": "a0dbd107-4c86-4bba-afd5-28b985c1e928",
   "metadata": {},
   "source": [
    "# Trainer"
   ]
  },
  {
   "cell_type": "code",
   "execution_count": null,
   "id": "1d1f5ff6-4766-43a8-aa58-317edf04f520",
   "metadata": {},
   "outputs": [],
   "source": []
  },
  {
   "cell_type": "code",
   "execution_count": null,
   "id": "adcea7dc-efd9-4453-8918-d81860ccb9d4",
   "metadata": {},
   "outputs": [],
   "source": [
    "'''metrics = {}\n",
    "\n",
    "for operation in data_operations:\n",
    "    metrics[operation] = {}\n",
    "\n",
    "for scenario in scenarios:\n",
    "    for operation in data_operations:\n",
    "        trainer = Trainer(path, target)\n",
    "        \n",
    "        if operation == STANDARD:\n",
    "            trainer.prepare_data_to_train(lemmatize=scenarios[scenario][\"lemmatize\"], sbert=scenarios[scenario][\"sbert\"])\n",
    "        if operation == WITHOUT_NARRATOR:\n",
    "            trainer.remove_class([\"narrator\"])\n",
    "            trainer.prepare_data_to_train(lemmatize=scenarios[scenario][\"lemmatize\"], sbert=scenarios[scenario][\"sbert\"])\n",
    "        elif operation == MERGE_NARRATOR_NEUTRAL:\n",
    "            trainer.merge_class([\"narrator\"], \"neutral\")\n",
    "            trainer.prepare_data_to_train(lemmatize=scenarios[scenario][\"lemmatize\"], sbert=scenarios[scenario][\"sbert\"])\n",
    "    \n",
    "        for classifier in classifiers:\n",
    "            metrics[operation][classifier] = {}\n",
    "\n",
    "        for classifier in classifiers:\n",
    "            metrics[operation][classifier][scenario] = trainer.cross_validation(model=classifiers[classifier], nro_folds=nro_folds)'''"
   ]
  },
  {
   "cell_type": "code",
   "execution_count": null,
   "id": "1c7becdc-81e4-4e61-8f22-d5d20cc6cc71",
   "metadata": {},
   "outputs": [],
   "source": [
    "metrics = {}\n",
    "\n",
    "for classifier in classifiers:  \n",
    "    metrics[classifier] = {}\n",
    "        \n",
    "    for scenario in scenarios: \n",
    "        metrics[classifier][scenario] = {}\n",
    "\n",
    "for classifier in classifiers:       \n",
    "    for scenario in scenarios: \n",
    "        for operation in data_operations:\n",
    "            trainer = Trainer(path, target)\n",
    "\n",
    "            if operation == STANDARD:\n",
    "                trainer.prepare_data_to_train(lemmatize=scenarios[scenario][\"lemmatize\"], sbert=scenarios[scenario][\"sbert\"])\n",
    "            if operation == WITHOUT_NARRATOR:\n",
    "                trainer.remove_class([\"narrator\"])\n",
    "                trainer.prepare_data_to_train(lemmatize=scenarios[scenario][\"lemmatize\"], sbert=scenarios[scenario][\"sbert\"])\n",
    "            elif operation == MERGE_NARRATOR_NEUTRAL:\n",
    "                trainer.merge_class([\"narrator\"], \"neutral\")\n",
    "                trainer.prepare_data_to_train(lemmatize=scenarios[scenario][\"lemmatize\"], sbert=scenarios[scenario][\"sbert\"])\n",
    "                \n",
    "            metrics[classifier][scenario][operation] = trainer.cross_validation(model=classifiers[classifier], nro_folds=nro_folds)\n",
    "            print(f\"{classifier} : {scenario} : {operation}\")\n",
    "            print(metrics[classifier][scenario][operation])\n",
    "            print(\"=======================\")\n"
   ]
  },
  {
   "cell_type": "markdown",
   "id": "6eec30d2-2bd1-4481-83ac-490b4c0cd896",
   "metadata": {},
   "source": [
    "# Visualizations "
   ]
  },
  {
   "cell_type": "code",
   "execution_count": null,
   "id": "0d17df74-f186-4ca4-a2e6-a67267cf79e4",
   "metadata": {},
   "outputs": [],
   "source": [
    "from visualizations import compare_boxplot"
   ]
  },
  {
   "cell_type": "code",
   "execution_count": null,
   "id": "dece79d8-fd3b-491c-bfe3-c93204a8ee4b",
   "metadata": {},
   "outputs": [],
   "source": [
    "compare_boxplot(metrics, labels)"
   ]
  }
 ],
 "metadata": {
  "kernelspec": {
   "display_name": "Python 3 (ipykernel)",
   "language": "python",
   "name": "python3"
  },
  "language_info": {
   "codemirror_mode": {
    "name": "ipython",
    "version": 3
   },
   "file_extension": ".py",
   "mimetype": "text/x-python",
   "name": "python",
   "nbconvert_exporter": "python",
   "pygments_lexer": "ipython3",
   "version": "3.9.13"
  }
 },
 "nbformat": 4,
 "nbformat_minor": 5
}
