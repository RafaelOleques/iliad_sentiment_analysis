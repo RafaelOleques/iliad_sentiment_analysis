{
 "cells": [
  {
   "cell_type": "code",
   "execution_count": 1,
   "id": "0bd025ae",
   "metadata": {
    "execution": {
     "iopub.execute_input": "2023-03-03T17:34:14.018050Z",
     "iopub.status.busy": "2023-03-03T17:34:14.017558Z",
     "iopub.status.idle": "2023-03-03T17:34:28.855826Z",
     "shell.execute_reply": "2023-03-03T17:34:28.854499Z",
     "shell.execute_reply.started": "2023-03-03T17:34:14.018000Z"
    }
   },
   "outputs": [
    {
     "name": "stdout",
     "output_type": "stream",
     "text": [
      "Requirement already satisfied: sentence_transformers in /usr/local/lib/python3.8/dist-packages (2.2.2)\n",
      "Requirement already satisfied: scikit-learn in /usr/local/lib/python3.8/dist-packages (from sentence_transformers) (1.2.1)\n",
      "Requirement already satisfied: torchvision in /usr/local/lib/python3.8/dist-packages (from sentence_transformers) (0.13.1)\n",
      "Requirement already satisfied: tqdm in /usr/local/lib/python3.8/dist-packages (from sentence_transformers) (4.64.1)\n",
      "Requirement already satisfied: scipy in /usr/local/lib/python3.8/dist-packages (from sentence_transformers) (1.9.1)\n",
      "Requirement already satisfied: huggingface-hub>=0.4.0 in /usr/local/lib/python3.8/dist-packages (from sentence_transformers) (0.12.1)\n",
      "Requirement already satisfied: nltk in /usr/local/lib/python3.8/dist-packages (from sentence_transformers) (3.7)\n",
      "Requirement already satisfied: sentencepiece in /usr/local/lib/python3.8/dist-packages (from sentence_transformers) (0.1.97)\n",
      "Requirement already satisfied: transformers<5.0.0,>=4.6.0 in /usr/local/lib/python3.8/dist-packages (from sentence_transformers) (4.26.1)\n",
      "Requirement already satisfied: torch>=1.6.0 in /usr/local/lib/python3.8/dist-packages (from sentence_transformers) (1.12.1)\n",
      "Requirement already satisfied: numpy in /usr/local/lib/python3.8/dist-packages (from sentence_transformers) (1.23.3)\n",
      "Requirement already satisfied: requests in /home/pizzaisamor/.local/lib/python3.8/site-packages (from huggingface-hub>=0.4.0->sentence_transformers) (2.28.1)\n",
      "Requirement already satisfied: packaging>=20.9 in /home/pizzaisamor/.local/lib/python3.8/site-packages (from huggingface-hub>=0.4.0->sentence_transformers) (21.3)\n",
      "Requirement already satisfied: pyyaml>=5.1 in /usr/lib/python3/dist-packages (from huggingface-hub>=0.4.0->sentence_transformers) (5.3.1)\n",
      "Requirement already satisfied: typing-extensions>=3.7.4.3 in /usr/local/lib/python3.8/dist-packages (from huggingface-hub>=0.4.0->sentence_transformers) (4.5.0)\n",
      "Requirement already satisfied: filelock in /home/pizzaisamor/.local/lib/python3.8/site-packages (from huggingface-hub>=0.4.0->sentence_transformers) (3.8.0)\n",
      "Requirement already satisfied: regex!=2019.12.17 in /usr/local/lib/python3.8/dist-packages (from transformers<5.0.0,>=4.6.0->sentence_transformers) (2022.9.13)\n",
      "Requirement already satisfied: tokenizers!=0.11.3,<0.14,>=0.11.1 in /usr/local/lib/python3.8/dist-packages (from transformers<5.0.0,>=4.6.0->sentence_transformers) (0.13.2)\n",
      "Requirement already satisfied: joblib in /usr/local/lib/python3.8/dist-packages (from nltk->sentence_transformers) (1.2.0)\n",
      "Requirement already satisfied: click in /home/pizzaisamor/.local/lib/python3.8/site-packages (from nltk->sentence_transformers) (8.0.3)\n",
      "Requirement already satisfied: threadpoolctl>=2.0.0 in /usr/local/lib/python3.8/dist-packages (from scikit-learn->sentence_transformers) (3.1.0)\n",
      "Requirement already satisfied: pillow!=8.3.*,>=5.3.0 in /usr/local/lib/python3.8/dist-packages (from torchvision->sentence_transformers) (9.2.0)\n",
      "Requirement already satisfied: pyparsing!=3.0.5,>=2.0.2 in /home/pizzaisamor/.local/lib/python3.8/site-packages (from packaging>=20.9->huggingface-hub>=0.4.0->sentence_transformers) (3.0.7)\n",
      "Requirement already satisfied: certifi>=2017.4.17 in /usr/local/lib/python3.8/dist-packages (from requests->huggingface-hub>=0.4.0->sentence_transformers) (2022.12.7)\n",
      "Requirement already satisfied: charset-normalizer<3,>=2 in /home/pizzaisamor/.local/lib/python3.8/site-packages (from requests->huggingface-hub>=0.4.0->sentence_transformers) (2.1.1)\n",
      "Requirement already satisfied: urllib3<1.27,>=1.21.1 in /usr/local/lib/python3.8/dist-packages (from requests->huggingface-hub>=0.4.0->sentence_transformers) (1.26.13)\n",
      "Requirement already satisfied: idna<4,>=2.5 in /usr/lib/python3/dist-packages (from requests->huggingface-hub>=0.4.0->sentence_transformers) (2.8)\n",
      "--- Logging error ---\n",
      "Traceback (most recent call last):\n",
      "  File \"/usr/local/lib/python3.8/dist-packages/pip/_internal/utils/logging.py\", line 177, in emit\n",
      "    self.console.print(renderable, overflow=\"ignore\", crop=False, style=style)\n",
      "  File \"/usr/local/lib/python3.8/dist-packages/pip/_vendor/rich/console.py\", line 1673, in print\n",
      "    extend(render(renderable, render_options))\n",
      "  File \"/usr/local/lib/python3.8/dist-packages/pip/_vendor/rich/console.py\", line 1305, in render\n",
      "    for render_output in iter_render:\n",
      "  File \"/usr/local/lib/python3.8/dist-packages/pip/_internal/utils/logging.py\", line 134, in __rich_console__\n",
      "    for line in lines:\n",
      "  File \"/usr/local/lib/python3.8/dist-packages/pip/_vendor/rich/segment.py\", line 249, in split_lines\n",
      "    for segment in segments:\n",
      "  File \"/usr/local/lib/python3.8/dist-packages/pip/_vendor/rich/console.py\", line 1283, in render\n",
      "    renderable = rich_cast(renderable)\n",
      "  File \"/usr/local/lib/python3.8/dist-packages/pip/_vendor/rich/protocol.py\", line 36, in rich_cast\n",
      "    renderable = cast_method()\n",
      "  File \"/usr/local/lib/python3.8/dist-packages/pip/_internal/self_outdated_check.py\", line 130, in __rich__\n",
      "    pip_cmd = get_best_invocation_for_this_pip()\n",
      "  File \"/usr/local/lib/python3.8/dist-packages/pip/_internal/utils/entrypoints.py\", line 58, in get_best_invocation_for_this_pip\n",
      "    if found_executable and os.path.samefile(\n",
      "  File \"/usr/lib/python3.8/genericpath.py\", line 101, in samefile\n",
      "    s2 = os.stat(f2)\n",
      "FileNotFoundError: [Errno 2] Arquivo ou diretório inexistente: '/usr/bin/pip3.8'\n",
      "Call stack:\n",
      "  File \"/usr/local/bin/pip3\", line 8, in <module>\n",
      "    sys.exit(main())\n",
      "  File \"/usr/local/lib/python3.8/dist-packages/pip/_internal/cli/main.py\", line 70, in main\n",
      "    return command.main(cmd_args)\n",
      "  File \"/usr/local/lib/python3.8/dist-packages/pip/_internal/cli/base_command.py\", line 101, in main\n",
      "    return self._main(args)\n",
      "  File \"/usr/local/lib/python3.8/dist-packages/pip/_internal/cli/base_command.py\", line 223, in _main\n",
      "    self.handle_pip_version_check(options)\n",
      "  File \"/usr/local/lib/python3.8/dist-packages/pip/_internal/cli/req_command.py\", line 190, in handle_pip_version_check\n",
      "    pip_self_version_check(session, options)\n",
      "  File \"/usr/local/lib/python3.8/dist-packages/pip/_internal/self_outdated_check.py\", line 236, in pip_self_version_check\n",
      "    logger.warning(\"[present-rich] %s\", upgrade_prompt)\n",
      "  File \"/usr/lib/python3.8/logging/__init__.py\", line 1458, in warning\n",
      "    self._log(WARNING, msg, args, **kwargs)\n",
      "  File \"/usr/lib/python3.8/logging/__init__.py\", line 1589, in _log\n",
      "    self.handle(record)\n",
      "  File \"/usr/lib/python3.8/logging/__init__.py\", line 1599, in handle\n",
      "    self.callHandlers(record)\n",
      "  File \"/usr/lib/python3.8/logging/__init__.py\", line 1661, in callHandlers\n",
      "    hdlr.handle(record)\n",
      "  File \"/usr/lib/python3.8/logging/__init__.py\", line 954, in handle\n",
      "    self.emit(record)\n",
      "  File \"/usr/local/lib/python3.8/dist-packages/pip/_internal/utils/logging.py\", line 179, in emit\n",
      "    self.handleError(record)\n",
      "Message: '[present-rich] %s'\n",
      "Arguments: (UpgradePrompt(old='22.2.2', new='23.0.1'),)\n"
     ]
    }
   ],
   "source": [
    "!pip install sentence_transformers"
   ]
  },
  {
   "cell_type": "code",
   "execution_count": 2,
   "id": "01e8a89c",
   "metadata": {
    "execution": {
     "iopub.execute_input": "2023-03-03T17:34:28.859228Z",
     "iopub.status.busy": "2023-03-03T17:34:28.858819Z",
     "iopub.status.idle": "2023-03-03T17:35:11.573723Z",
     "shell.execute_reply": "2023-03-03T17:35:11.572504Z",
     "shell.execute_reply.started": "2023-03-03T17:34:28.859184Z"
    }
   },
   "outputs": [
    {
     "name": "stdout",
     "output_type": "stream",
     "text": [
      "Collecting el-core-news-md==3.5.0\n",
      "  Downloading https://github.com/explosion/spacy-models/releases/download/el_core_news_md-3.5.0/el_core_news_md-3.5.0-py3-none-any.whl (42.9 MB)\n",
      "\u001b[2K     \u001b[38;2;114;156;31m━━━━━━━━━━━━━━━━━━━━━━━━━━━━━━━━━━━━━━━━\u001b[0m \u001b[32m42.9/42.9 MB\u001b[0m \u001b[31m2.8 MB/s\u001b[0m eta \u001b[36m0:00:00\u001b[0mm eta \u001b[36m0:00:01\u001b[0m[36m0:00:01\u001b[0m\n",
      "\u001b[?25hRequirement already satisfied: spacy<3.6.0,>=3.5.0 in /usr/local/lib/python3.8/dist-packages (from el-core-news-md==3.5.0) (3.5.0)\n",
      "Requirement already satisfied: setuptools in /usr/lib/python3/dist-packages (from spacy<3.6.0,>=3.5.0->el-core-news-md==3.5.0) (45.2.0)\n",
      "Requirement already satisfied: packaging>=20.0 in /home/pizzaisamor/.local/lib/python3.8/site-packages (from spacy<3.6.0,>=3.5.0->el-core-news-md==3.5.0) (21.3)\n",
      "Requirement already satisfied: pydantic!=1.8,!=1.8.1,<1.11.0,>=1.7.4 in /usr/local/lib/python3.8/dist-packages (from spacy<3.6.0,>=3.5.0->el-core-news-md==3.5.0) (1.10.5)\n",
      "Requirement already satisfied: numpy>=1.15.0 in /usr/local/lib/python3.8/dist-packages (from spacy<3.6.0,>=3.5.0->el-core-news-md==3.5.0) (1.23.3)\n",
      "Requirement already satisfied: preshed<3.1.0,>=3.0.2 in /usr/local/lib/python3.8/dist-packages (from spacy<3.6.0,>=3.5.0->el-core-news-md==3.5.0) (3.0.8)\n",
      "Requirement already satisfied: smart-open<7.0.0,>=5.2.1 in /usr/local/lib/python3.8/dist-packages (from spacy<3.6.0,>=3.5.0->el-core-news-md==3.5.0) (6.3.0)\n",
      "Requirement already satisfied: tqdm<5.0.0,>=4.38.0 in /usr/local/lib/python3.8/dist-packages (from spacy<3.6.0,>=3.5.0->el-core-news-md==3.5.0) (4.64.1)\n",
      "Requirement already satisfied: pathy>=0.10.0 in /usr/local/lib/python3.8/dist-packages (from spacy<3.6.0,>=3.5.0->el-core-news-md==3.5.0) (0.10.1)\n",
      "Requirement already satisfied: langcodes<4.0.0,>=3.2.0 in /usr/local/lib/python3.8/dist-packages (from spacy<3.6.0,>=3.5.0->el-core-news-md==3.5.0) (3.3.0)\n",
      "Requirement already satisfied: jinja2 in /home/pizzaisamor/.local/lib/python3.8/site-packages (from spacy<3.6.0,>=3.5.0->el-core-news-md==3.5.0) (3.0.3)\n",
      "Requirement already satisfied: murmurhash<1.1.0,>=0.28.0 in /usr/local/lib/python3.8/dist-packages (from spacy<3.6.0,>=3.5.0->el-core-news-md==3.5.0) (1.0.9)\n",
      "Requirement already satisfied: cymem<2.1.0,>=2.0.2 in /usr/local/lib/python3.8/dist-packages (from spacy<3.6.0,>=3.5.0->el-core-news-md==3.5.0) (2.0.7)\n",
      "Requirement already satisfied: spacy-loggers<2.0.0,>=1.0.0 in /usr/local/lib/python3.8/dist-packages (from spacy<3.6.0,>=3.5.0->el-core-news-md==3.5.0) (1.0.4)\n",
      "Requirement already satisfied: requests<3.0.0,>=2.13.0 in /home/pizzaisamor/.local/lib/python3.8/site-packages (from spacy<3.6.0,>=3.5.0->el-core-news-md==3.5.0) (2.28.1)\n",
      "Requirement already satisfied: thinc<8.2.0,>=8.1.0 in /usr/local/lib/python3.8/dist-packages (from spacy<3.6.0,>=3.5.0->el-core-news-md==3.5.0) (8.1.7)\n",
      "Requirement already satisfied: typer<0.8.0,>=0.3.0 in /usr/local/lib/python3.8/dist-packages (from spacy<3.6.0,>=3.5.0->el-core-news-md==3.5.0) (0.7.0)\n",
      "Requirement already satisfied: catalogue<2.1.0,>=2.0.6 in /usr/local/lib/python3.8/dist-packages (from spacy<3.6.0,>=3.5.0->el-core-news-md==3.5.0) (2.0.8)\n",
      "Requirement already satisfied: wasabi<1.2.0,>=0.9.1 in /usr/local/lib/python3.8/dist-packages (from spacy<3.6.0,>=3.5.0->el-core-news-md==3.5.0) (1.1.1)\n",
      "Requirement already satisfied: spacy-legacy<3.1.0,>=3.0.11 in /usr/local/lib/python3.8/dist-packages (from spacy<3.6.0,>=3.5.0->el-core-news-md==3.5.0) (3.0.12)\n",
      "Requirement already satisfied: srsly<3.0.0,>=2.4.3 in /usr/local/lib/python3.8/dist-packages (from spacy<3.6.0,>=3.5.0->el-core-news-md==3.5.0) (2.4.6)\n",
      "Requirement already satisfied: pyparsing!=3.0.5,>=2.0.2 in /home/pizzaisamor/.local/lib/python3.8/site-packages (from packaging>=20.0->spacy<3.6.0,>=3.5.0->el-core-news-md==3.5.0) (3.0.7)\n",
      "Requirement already satisfied: typing-extensions>=4.2.0 in /usr/local/lib/python3.8/dist-packages (from pydantic!=1.8,!=1.8.1,<1.11.0,>=1.7.4->spacy<3.6.0,>=3.5.0->el-core-news-md==3.5.0) (4.5.0)\n",
      "Requirement already satisfied: charset-normalizer<3,>=2 in /home/pizzaisamor/.local/lib/python3.8/site-packages (from requests<3.0.0,>=2.13.0->spacy<3.6.0,>=3.5.0->el-core-news-md==3.5.0) (2.1.1)\n",
      "Requirement already satisfied: idna<4,>=2.5 in /usr/lib/python3/dist-packages (from requests<3.0.0,>=2.13.0->spacy<3.6.0,>=3.5.0->el-core-news-md==3.5.0) (2.8)\n",
      "Requirement already satisfied: urllib3<1.27,>=1.21.1 in /usr/local/lib/python3.8/dist-packages (from requests<3.0.0,>=2.13.0->spacy<3.6.0,>=3.5.0->el-core-news-md==3.5.0) (1.26.13)\n",
      "Requirement already satisfied: certifi>=2017.4.17 in /usr/local/lib/python3.8/dist-packages (from requests<3.0.0,>=2.13.0->spacy<3.6.0,>=3.5.0->el-core-news-md==3.5.0) (2022.12.7)\n",
      "Requirement already satisfied: confection<1.0.0,>=0.0.1 in /usr/local/lib/python3.8/dist-packages (from thinc<8.2.0,>=8.1.0->spacy<3.6.0,>=3.5.0->el-core-news-md==3.5.0) (0.0.4)\n",
      "Requirement already satisfied: blis<0.8.0,>=0.7.8 in /usr/local/lib/python3.8/dist-packages (from thinc<8.2.0,>=8.1.0->spacy<3.6.0,>=3.5.0->el-core-news-md==3.5.0) (0.7.9)\n",
      "Requirement already satisfied: click<9.0.0,>=7.1.1 in /home/pizzaisamor/.local/lib/python3.8/site-packages (from typer<0.8.0,>=0.3.0->spacy<3.6.0,>=3.5.0->el-core-news-md==3.5.0) (8.0.3)\n",
      "Requirement already satisfied: MarkupSafe>=2.0 in /home/pizzaisamor/.local/lib/python3.8/site-packages (from jinja2->spacy<3.6.0,>=3.5.0->el-core-news-md==3.5.0) (2.1.1)\n",
      "--- Logging error ---\n",
      "Traceback (most recent call last):\n",
      "  File \"/usr/local/lib/python3.8/dist-packages/pip/_internal/utils/logging.py\", line 177, in emit\n",
      "    self.console.print(renderable, overflow=\"ignore\", crop=False, style=style)\n",
      "  File \"/usr/local/lib/python3.8/dist-packages/pip/_vendor/rich/console.py\", line 1673, in print\n",
      "    extend(render(renderable, render_options))\n",
      "  File \"/usr/local/lib/python3.8/dist-packages/pip/_vendor/rich/console.py\", line 1305, in render\n",
      "    for render_output in iter_render:\n",
      "  File \"/usr/local/lib/python3.8/dist-packages/pip/_internal/utils/logging.py\", line 134, in __rich_console__\n",
      "    for line in lines:\n",
      "  File \"/usr/local/lib/python3.8/dist-packages/pip/_vendor/rich/segment.py\", line 249, in split_lines\n",
      "    for segment in segments:\n",
      "  File \"/usr/local/lib/python3.8/dist-packages/pip/_vendor/rich/console.py\", line 1283, in render\n",
      "    renderable = rich_cast(renderable)\n",
      "  File \"/usr/local/lib/python3.8/dist-packages/pip/_vendor/rich/protocol.py\", line 36, in rich_cast\n",
      "    renderable = cast_method()\n",
      "  File \"/usr/local/lib/python3.8/dist-packages/pip/_internal/self_outdated_check.py\", line 130, in __rich__\n",
      "    pip_cmd = get_best_invocation_for_this_pip()\n",
      "  File \"/usr/local/lib/python3.8/dist-packages/pip/_internal/utils/entrypoints.py\", line 58, in get_best_invocation_for_this_pip\n",
      "    if found_executable and os.path.samefile(\n",
      "  File \"/usr/lib/python3.8/genericpath.py\", line 101, in samefile\n",
      "    s2 = os.stat(f2)\n",
      "FileNotFoundError: [Errno 2] Arquivo ou diretório inexistente: '/usr/bin/pip3.8'\n",
      "Call stack:\n",
      "  File \"/usr/lib/python3.8/runpy.py\", line 194, in _run_module_as_main\n",
      "    return _run_code(code, main_globals, None,\n",
      "  File \"/usr/lib/python3.8/runpy.py\", line 87, in _run_code\n",
      "    exec(code, run_globals)\n",
      "  File \"/usr/local/lib/python3.8/dist-packages/pip/__main__.py\", line 31, in <module>\n",
      "    sys.exit(_main())\n",
      "  File \"/usr/local/lib/python3.8/dist-packages/pip/_internal/cli/main.py\", line 70, in main\n",
      "    return command.main(cmd_args)\n",
      "  File \"/usr/local/lib/python3.8/dist-packages/pip/_internal/cli/base_command.py\", line 101, in main\n",
      "    return self._main(args)\n",
      "  File \"/usr/local/lib/python3.8/dist-packages/pip/_internal/cli/base_command.py\", line 223, in _main\n",
      "    self.handle_pip_version_check(options)\n",
      "  File \"/usr/local/lib/python3.8/dist-packages/pip/_internal/cli/req_command.py\", line 190, in handle_pip_version_check\n",
      "    pip_self_version_check(session, options)\n",
      "  File \"/usr/local/lib/python3.8/dist-packages/pip/_internal/self_outdated_check.py\", line 236, in pip_self_version_check\n",
      "    logger.warning(\"[present-rich] %s\", upgrade_prompt)\n",
      "  File \"/usr/lib/python3.8/logging/__init__.py\", line 1458, in warning\n",
      "    self._log(WARNING, msg, args, **kwargs)\n",
      "  File \"/usr/lib/python3.8/logging/__init__.py\", line 1589, in _log\n",
      "    self.handle(record)\n",
      "  File \"/usr/lib/python3.8/logging/__init__.py\", line 1599, in handle\n",
      "    self.callHandlers(record)\n",
      "  File \"/usr/lib/python3.8/logging/__init__.py\", line 1661, in callHandlers\n",
      "    hdlr.handle(record)\n",
      "  File \"/usr/lib/python3.8/logging/__init__.py\", line 954, in handle\n",
      "    self.emit(record)\n",
      "  File \"/usr/local/lib/python3.8/dist-packages/pip/_internal/utils/logging.py\", line 179, in emit\n",
      "    self.handleError(record)\n",
      "Message: '[present-rich] %s'\n",
      "Arguments: (UpgradePrompt(old='22.2.2', new='23.0.1'),)\n"
     ]
    },
    {
     "name": "stdout",
     "output_type": "stream",
     "text": [
      "\u001b[38;5;2m✔ Download and installation successful\u001b[0m\r\n",
      "You can now load the package via spacy.load('el_core_news_md')\r\n"
     ]
    }
   ],
   "source": [
    "!python -m spacy download el_core_news_md"
   ]
  },
  {
   "cell_type": "code",
   "execution_count": 3,
   "id": "ef843599",
   "metadata": {
    "execution": {
     "iopub.execute_input": "2023-03-03T17:35:11.576929Z",
     "iopub.status.busy": "2023-03-03T17:35:11.576528Z",
     "iopub.status.idle": "2023-03-03T17:35:11.618694Z",
     "shell.execute_reply": "2023-03-03T17:35:11.617771Z",
     "shell.execute_reply.started": "2023-03-03T17:35:11.576884Z"
    }
   },
   "outputs": [
    {
     "data": {
      "text/plain": [
       "'from shutil import copyfile\\n\\ncopyfile(src = \"/kaggle/input/trainer-am/stratification.py\", dst = \"../working/stratification.py\")\\ncopyfile(src = \"/kaggle/input/trainer-am/kfold.py\", dst = \"../working/kfold.py\")\\ncopyfile(src = \"/kaggle/input/trainer-am/trainer.py\", dst = \"../working/trainer.py\")\\ncopyfile(src = \"/kaggle/input/trainer-am/visualizations.py\", dst = \"../working/visualizations.py\")'"
      ]
     },
     "execution_count": 3,
     "metadata": {},
     "output_type": "execute_result"
    }
   ],
   "source": [
    "'''from shutil import copyfile\n",
    "\n",
    "copyfile(src = \"/kaggle/input/trainer-am/stratification.py\", dst = \"../working/stratification.py\")\n",
    "copyfile(src = \"/kaggle/input/trainer-am/kfold.py\", dst = \"../working/kfold.py\")\n",
    "copyfile(src = \"/kaggle/input/trainer-am/trainer.py\", dst = \"../working/trainer.py\")\n",
    "copyfile(src = \"/kaggle/input/trainer-am/visualizations.py\", dst = \"../working/visualizations.py\")'''"
   ]
  },
  {
   "cell_type": "code",
   "execution_count": 4,
   "id": "e9693ef9",
   "metadata": {
    "execution": {
     "iopub.execute_input": "2023-03-03T17:35:11.621836Z",
     "iopub.status.busy": "2023-03-03T17:35:11.620845Z",
     "iopub.status.idle": "2023-03-03T17:35:24.736411Z",
     "shell.execute_reply": "2023-03-03T17:35:24.735131Z",
     "shell.execute_reply.started": "2023-03-03T17:35:11.621798Z"
    }
   },
   "outputs": [],
   "source": [
    "from trainer import Trainer"
   ]
  },
  {
   "cell_type": "code",
   "execution_count": 5,
   "id": "1459547f",
   "metadata": {
    "execution": {
     "iopub.execute_input": "2023-03-03T17:35:24.746088Z",
     "iopub.status.busy": "2023-03-03T17:35:24.743355Z",
     "iopub.status.idle": "2023-03-03T17:35:24.965377Z",
     "shell.execute_reply": "2023-03-03T17:35:24.964296Z",
     "shell.execute_reply.started": "2023-03-03T17:35:24.746047Z"
    }
   },
   "outputs": [],
   "source": [
    "from sklearn.ensemble import RandomForestClassifier\n",
    "from sklearn.tree import DecisionTreeClassifier\n",
    "from sklearn.neighbors import KNeighborsClassifier"
   ]
  },
  {
   "cell_type": "code",
   "execution_count": 6,
   "id": "3fbbd4d1",
   "metadata": {
    "execution": {
     "iopub.execute_input": "2023-03-03T17:35:24.967314Z",
     "iopub.status.busy": "2023-03-03T17:35:24.966916Z",
     "iopub.status.idle": "2023-03-03T17:35:24.972486Z",
     "shell.execute_reply": "2023-03-03T17:35:24.971314Z",
     "shell.execute_reply.started": "2023-03-03T17:35:24.967275Z"
    }
   },
   "outputs": [],
   "source": [
    "import matplotlib.pyplot as plt"
   ]
  },
  {
   "cell_type": "markdown",
   "id": "a5ae856e",
   "metadata": {},
   "source": [
    "# Setup"
   ]
  },
  {
   "cell_type": "code",
   "execution_count": 7,
   "id": "df0012a2",
   "metadata": {
    "execution": {
     "iopub.execute_input": "2023-03-03T17:35:24.975008Z",
     "iopub.status.busy": "2023-03-03T17:35:24.974231Z",
     "iopub.status.idle": "2023-03-03T17:35:24.985038Z",
     "shell.execute_reply": "2023-03-03T17:35:24.983895Z",
     "shell.execute_reply.started": "2023-03-03T17:35:24.974948Z"
    }
   },
   "outputs": [],
   "source": [
    "path = \"data/iliad_sentiments.csv\"\n",
    "target = \"class\""
   ]
  },
  {
   "cell_type": "code",
   "execution_count": 8,
   "id": "d67e17d1",
   "metadata": {
    "execution": {
     "iopub.execute_input": "2023-03-03T17:35:24.987065Z",
     "iopub.status.busy": "2023-03-03T17:35:24.986669Z",
     "iopub.status.idle": "2023-03-03T17:35:24.996057Z",
     "shell.execute_reply": "2023-03-03T17:35:24.995041Z",
     "shell.execute_reply.started": "2023-03-03T17:35:24.987027Z"
    }
   },
   "outputs": [],
   "source": [
    "scenarios = {\n",
    "    \"TF-IDF sem lematização\": {\"lemmatize\": False, \"sbert\": False},\n",
    "#    \"TF-IDF com lematização\": {\"lemmatize\": True, \"sbert\": False},\n",
    "#    \"SBERT sem lematização\": {\"lemmatize\": False, \"sbert\": True},\n",
    "           }\n",
    "\n",
    "classifiers = {\n",
    "    \"Decision Tree\": DecisionTreeClassifier(), \n",
    "    \"KNN\": KNeighborsClassifier(),\n",
    "    \"Random Forest\": RandomForestClassifier()\n",
    "}\n",
    "\n",
    "STANDARD = \"Sem modificação\"\n",
    "WITHOUT_NARRATOR = \"Sem narrador\"\n",
    "MERGE_NARRATOR_NEUTRAL = \"Junção de narrador e neutro\"\n",
    "\n",
    "data_operations = [STANDARD, WITHOUT_NARRATOR, MERGE_NARRATOR_NEUTRAL]\n",
    "\n",
    "nro_folds = 5"
   ]
  },
  {
   "cell_type": "markdown",
   "id": "cb862c0b",
   "metadata": {},
   "source": [
    "# Trainer"
   ]
  },
  {
   "cell_type": "code",
   "execution_count": 9,
   "id": "89e38e63",
   "metadata": {
    "execution": {
     "iopub.execute_input": "2023-03-03T17:35:25.000155Z",
     "iopub.status.busy": "2023-03-03T17:35:24.999404Z",
     "iopub.status.idle": "2023-03-03T19:44:19.300309Z",
     "shell.execute_reply": "2023-03-03T19:44:19.299149Z",
     "shell.execute_reply.started": "2023-03-03T17:35:25.000127Z"
    }
   },
   "outputs": [
    {
     "name": "stdout",
     "output_type": "stream",
     "text": [
      "Decision Tree : TF-IDF sem lematização : Sem modificação\n",
      "{'accuracy': [0.3387096774193548, 0.3821138211382114, 0.38524590163934425, 0.4016393442622951, 0.3416666666666667], 'recall': [0.24227738376674546, 0.26065167937909806, 0.2508750341810227, 0.27584768936286574, 0.2443015352162194], 'precision': [0.23072377501725327, 0.2429818922104361, 0.23596601499848283, 0.26153360528360525, 0.23763736263736263], 'especificity': [0.7453622066007387, 0.7575710108604845, 0.7605287217434078, 0.7614376376740306, 0.7302862916422477], 'f1': [0.23635947416143344, 0.2515068170037665, 0.24319223770498827, 0.26850000707852534, 0.24092337338032796]}\n",
      "=======================\n",
      "Decision Tree : TF-IDF sem lematização : Sem narrador\n",
      "{'accuracy': [0.25862068965517243, 0.23478260869565218, 0.21929824561403508, 0.13157894736842105, 0.18584070796460178], 'recall': [0.21728395061728392, 0.2176100628930818, 0.17316561844863732, 0.12620545073375264, 0.1495956873315364], 'precision': [0.16512667660208644, 0.15759225650332728, 0.15110426296866974, 0.11482347700189331, 0.12489557226399332], 'especificity': [0.6476631534121154, 0.639247311827957, 0.6353148976099795, 0.6079372964618867, 0.6114478114478114], 'f1': [0.18764842862916414, 0.1828009000814292, 0.16138448031515934, 0.12024572159018479, 0.13613430901245302]}\n",
      "=======================\n",
      "Decision Tree : TF-IDF sem lematização : Junção de narrador e neutro\n",
      "{'accuracy': [0.2661290322580645, 0.2032520325203252, 0.2540983606557377, 0.256198347107438, 0.2975206611570248], 'recall': [0.27858293075684376, 0.1982499316379546, 0.2277823352474706, 0.2570040022870212, 0.3238993710691824], 'precision': [0.1817470664928292, 0.14761137949543746, 0.1737063940453771, 0.17875457875457876, 0.20904735581352496], 'especificity': [0.6485148514851485, 0.6247619047619047, 0.646757429366125, 0.6478510596157655, 0.6692909487027133], 'f1': [0.21997971343401213, 0.16922358732785878, 0.19710265915939465, 0.21085364312158672, 0.25409784376658057]}\n",
      "=======================\n"
     ]
    },
    {
     "ename": "IndexError",
     "evalue": "index 4976 is out of bounds for axis 0 with size 488",
     "output_type": "error",
     "traceback": [
      "\u001b[0;31m---------------------------------------------------------------------------\u001b[0m",
      "\u001b[0;31mIndexError\u001b[0m                                Traceback (most recent call last)",
      "Input \u001b[0;32mIn [9]\u001b[0m, in \u001b[0;36m<module>\u001b[0;34m\u001b[0m\n\u001b[1;32m     20\u001b[0m     trainer\u001b[38;5;241m.\u001b[39mmerge_class([\u001b[38;5;124m\"\u001b[39m\u001b[38;5;124mnarrator\u001b[39m\u001b[38;5;124m\"\u001b[39m], \u001b[38;5;124m\"\u001b[39m\u001b[38;5;124mneutral\u001b[39m\u001b[38;5;124m\"\u001b[39m)\n\u001b[1;32m     21\u001b[0m     trainer\u001b[38;5;241m.\u001b[39mprepare_data_to_train(lemmatize\u001b[38;5;241m=\u001b[39mscenarios[scenario][\u001b[38;5;124m\"\u001b[39m\u001b[38;5;124mlemmatize\u001b[39m\u001b[38;5;124m\"\u001b[39m], sbert\u001b[38;5;241m=\u001b[39mscenarios[scenario][\u001b[38;5;124m\"\u001b[39m\u001b[38;5;124msbert\u001b[39m\u001b[38;5;124m\"\u001b[39m])\n\u001b[0;32m---> 23\u001b[0m metrics[classifier][scenario][operation] \u001b[38;5;241m=\u001b[39m \u001b[43mtrainer\u001b[49m\u001b[38;5;241;43m.\u001b[39;49m\u001b[43mcross_validation\u001b[49m\u001b[43m(\u001b[49m\u001b[43mmodel\u001b[49m\u001b[38;5;241;43m=\u001b[39;49m\u001b[43mclassifiers\u001b[49m\u001b[43m[\u001b[49m\u001b[43mclassifier\u001b[49m\u001b[43m]\u001b[49m\u001b[43m,\u001b[49m\u001b[43m \u001b[49m\u001b[43mnro_folds\u001b[49m\u001b[38;5;241;43m=\u001b[39;49m\u001b[43mnro_folds\u001b[49m\u001b[43m)\u001b[49m\n\u001b[1;32m     24\u001b[0m \u001b[38;5;28mprint\u001b[39m(\u001b[38;5;124mf\u001b[39m\u001b[38;5;124m\"\u001b[39m\u001b[38;5;132;01m{\u001b[39;00mclassifier\u001b[38;5;132;01m}\u001b[39;00m\u001b[38;5;124m : \u001b[39m\u001b[38;5;132;01m{\u001b[39;00mscenario\u001b[38;5;132;01m}\u001b[39;00m\u001b[38;5;124m : \u001b[39m\u001b[38;5;132;01m{\u001b[39;00moperation\u001b[38;5;132;01m}\u001b[39;00m\u001b[38;5;124m\"\u001b[39m)\n\u001b[1;32m     25\u001b[0m \u001b[38;5;28mprint\u001b[39m(metrics[classifier][scenario][operation])\n",
      "File \u001b[0;32m~/Área de Trabalho/ML_TRUE/trainer.py:174\u001b[0m, in \u001b[0;36mTrainer.cross_validation\u001b[0;34m(self, model, nro_folds, shuffle, seed)\u001b[0m\n\u001b[1;32m    171\u001b[0m     model_pipeline \u001b[38;5;241m=\u001b[39m Pipeline([(\u001b[38;5;124m'\u001b[39m\u001b[38;5;124mclf\u001b[39m\u001b[38;5;124m'\u001b[39m, model),])\n\u001b[1;32m    173\u001b[0m model_pipeline\u001b[38;5;241m.\u001b[39mfit(X_train, y_train)\n\u001b[0;32m--> 174\u001b[0m predicted \u001b[38;5;241m=\u001b[39m \u001b[43mmodel_pipeline\u001b[49m\u001b[38;5;241;43m.\u001b[39;49m\u001b[43mpredict\u001b[49m\u001b[43m(\u001b[49m\u001b[43mX_test\u001b[49m\u001b[43m)\u001b[49m\n\u001b[1;32m    176\u001b[0m cm \u001b[38;5;241m=\u001b[39m build_matrix(y_test, predicted)\n\u001b[1;32m    178\u001b[0m accuracy \u001b[38;5;241m=\u001b[39m accuracy_score(cm)\n",
      "File \u001b[0;32m/usr/local/lib/python3.8/dist-packages/sklearn/pipeline.py:481\u001b[0m, in \u001b[0;36mPipeline.predict\u001b[0;34m(self, X, **predict_params)\u001b[0m\n\u001b[1;32m    479\u001b[0m \u001b[38;5;28;01mfor\u001b[39;00m _, name, transform \u001b[38;5;129;01min\u001b[39;00m \u001b[38;5;28mself\u001b[39m\u001b[38;5;241m.\u001b[39m_iter(with_final\u001b[38;5;241m=\u001b[39m\u001b[38;5;28;01mFalse\u001b[39;00m):\n\u001b[1;32m    480\u001b[0m     Xt \u001b[38;5;241m=\u001b[39m transform\u001b[38;5;241m.\u001b[39mtransform(Xt)\n\u001b[0;32m--> 481\u001b[0m \u001b[38;5;28;01mreturn\u001b[39;00m \u001b[38;5;28;43mself\u001b[39;49m\u001b[38;5;241;43m.\u001b[39;49m\u001b[43msteps\u001b[49m\u001b[43m[\u001b[49m\u001b[38;5;241;43m-\u001b[39;49m\u001b[38;5;241;43m1\u001b[39;49m\u001b[43m]\u001b[49m\u001b[43m[\u001b[49m\u001b[38;5;241;43m1\u001b[39;49m\u001b[43m]\u001b[49m\u001b[38;5;241;43m.\u001b[39;49m\u001b[43mpredict\u001b[49m\u001b[43m(\u001b[49m\u001b[43mXt\u001b[49m\u001b[43m,\u001b[49m\u001b[43m \u001b[49m\u001b[38;5;241;43m*\u001b[39;49m\u001b[38;5;241;43m*\u001b[39;49m\u001b[43mpredict_params\u001b[49m\u001b[43m)\u001b[49m\n",
      "File \u001b[0;32m/usr/local/lib/python3.8/dist-packages/sklearn/neighbors/_classification.py:252\u001b[0m, in \u001b[0;36mKNeighborsClassifier.predict\u001b[0;34m(self, X)\u001b[0m\n\u001b[1;32m    250\u001b[0m \u001b[38;5;28;01mfor\u001b[39;00m k, classes_k \u001b[38;5;129;01min\u001b[39;00m \u001b[38;5;28menumerate\u001b[39m(classes_):\n\u001b[1;32m    251\u001b[0m     \u001b[38;5;28;01mif\u001b[39;00m weights \u001b[38;5;129;01mis\u001b[39;00m \u001b[38;5;28;01mNone\u001b[39;00m:\n\u001b[0;32m--> 252\u001b[0m         mode, _ \u001b[38;5;241m=\u001b[39m _mode(\u001b[43m_y\u001b[49m\u001b[43m[\u001b[49m\u001b[43mneigh_ind\u001b[49m\u001b[43m,\u001b[49m\u001b[43m \u001b[49m\u001b[43mk\u001b[49m\u001b[43m]\u001b[49m, axis\u001b[38;5;241m=\u001b[39m\u001b[38;5;241m1\u001b[39m)\n\u001b[1;32m    253\u001b[0m     \u001b[38;5;28;01melse\u001b[39;00m:\n\u001b[1;32m    254\u001b[0m         mode, _ \u001b[38;5;241m=\u001b[39m weighted_mode(_y[neigh_ind, k], weights, axis\u001b[38;5;241m=\u001b[39m\u001b[38;5;241m1\u001b[39m)\n",
      "\u001b[0;31mIndexError\u001b[0m: index 4976 is out of bounds for axis 0 with size 488"
     ]
    }
   ],
   "source": [
    "metrics = {}\n",
    "\n",
    "for classifier in classifiers:  \n",
    "    metrics[classifier] = {}\n",
    "        \n",
    "    for scenario in scenarios: \n",
    "        metrics[classifier][scenario] = {}\n",
    "\n",
    "for classifier in classifiers:       \n",
    "    for scenario in scenarios: \n",
    "        for operation in data_operations:\n",
    "            trainer = Trainer(path, target)\n",
    "\n",
    "            if operation == STANDARD:\n",
    "                trainer.prepare_data_to_train(lemmatize=scenarios[scenario][\"lemmatize\"], sbert=scenarios[scenario][\"sbert\"])\n",
    "            if operation == WITHOUT_NARRATOR:\n",
    "                trainer.remove_class([\"narrator\"])\n",
    "                trainer.prepare_data_to_train(lemmatize=scenarios[scenario][\"lemmatize\"], sbert=scenarios[scenario][\"sbert\"])\n",
    "            elif operation == MERGE_NARRATOR_NEUTRAL:\n",
    "                trainer.merge_class([\"narrator\"], \"neutral\")\n",
    "                trainer.prepare_data_to_train(lemmatize=scenarios[scenario][\"lemmatize\"], sbert=scenarios[scenario][\"sbert\"])\n",
    "                \n",
    "            metrics[classifier][scenario][operation] = trainer.cross_validation(model=classifiers[classifier], nro_folds=nro_folds)\n",
    "            print(f\"{classifier} : {scenario} : {operation}\")\n",
    "            print(metrics[classifier][scenario][operation])\n",
    "            print(\"=======================\")\n"
   ]
  },
  {
   "cell_type": "markdown",
   "id": "796e5540",
   "metadata": {},
   "source": [
    "# Visualizations "
   ]
  },
  {
   "cell_type": "code",
   "execution_count": null,
   "id": "9ad7fe64",
   "metadata": {
    "execution": {
     "iopub.execute_input": "2023-03-03T19:44:19.302873Z",
     "iopub.status.busy": "2023-03-03T19:44:19.302120Z",
     "iopub.status.idle": "2023-03-03T19:44:19.309600Z",
     "shell.execute_reply": "2023-03-03T19:44:19.308603Z",
     "shell.execute_reply.started": "2023-03-03T19:44:19.302833Z"
    }
   },
   "outputs": [],
   "source": [
    "from visualizations import compare_boxplot"
   ]
  },
  {
   "cell_type": "code",
   "execution_count": null,
   "id": "9275e6a1",
   "metadata": {
    "execution": {
     "iopub.execute_input": "2023-03-03T19:44:19.329470Z",
     "iopub.status.busy": "2023-03-03T19:44:19.329007Z",
     "iopub.status.idle": "2023-03-03T19:44:24.673384Z",
     "shell.execute_reply": "2023-03-03T19:44:24.672185Z",
     "shell.execute_reply.started": "2023-03-03T19:44:19.329435Z"
    }
   },
   "outputs": [],
   "source": [
    "compare_boxplot(metrics, data_operations, width=14, height=10)"
   ]
  },
  {
   "cell_type": "code",
   "execution_count": null,
   "id": "c7734c23",
   "metadata": {
    "execution": {
     "iopub.execute_input": "2023-03-03T19:44:24.676261Z",
     "iopub.status.busy": "2023-03-03T19:44:24.674763Z",
     "iopub.status.idle": "2023-03-03T19:44:24.699582Z",
     "shell.execute_reply": "2023-03-03T19:44:24.698231Z",
     "shell.execute_reply.started": "2023-03-03T19:44:24.676218Z"
    }
   },
   "outputs": [],
   "source": [
    "metrics"
   ]
  },
  {
   "cell_type": "code",
   "execution_count": null,
   "id": "d1e96390",
   "metadata": {
    "execution": {
     "iopub.execute_input": "2023-03-03T19:44:24.705046Z",
     "iopub.status.busy": "2023-03-03T19:44:24.704649Z",
     "iopub.status.idle": "2023-03-03T19:44:24.712887Z",
     "shell.execute_reply": "2023-03-03T19:44:24.711686Z",
     "shell.execute_reply.started": "2023-03-03T19:44:24.705010Z"
    }
   },
   "outputs": [],
   "source": [
    "data_operations"
   ]
  },
  {
   "cell_type": "code",
   "execution_count": null,
   "id": "64eac093",
   "metadata": {},
   "outputs": [],
   "source": []
  }
 ],
 "metadata": {
  "kernelspec": {
   "display_name": "Python 3 (ipykernel)",
   "language": "python",
   "name": "python3"
  },
  "language_info": {
   "codemirror_mode": {
    "name": "ipython",
    "version": 3
   },
   "file_extension": ".py",
   "mimetype": "text/x-python",
   "name": "python",
   "nbconvert_exporter": "python",
   "pygments_lexer": "ipython3",
   "version": "3.8.10"
  }
 },
 "nbformat": 4,
 "nbformat_minor": 5
}
