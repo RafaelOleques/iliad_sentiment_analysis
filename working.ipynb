{
 "cells": [
  {
   "cell_type": "code",
   "execution_count": null,
   "id": "0bd025ae",
   "metadata": {
    "tags": []
   },
   "outputs": [],
   "source": [
    "#!pip install sentence_transformers"
   ]
  },
  {
   "cell_type": "code",
   "execution_count": null,
   "id": "01e8a89c",
   "metadata": {
    "tags": []
   },
   "outputs": [],
   "source": [
    "#!python -m spacy download el_core_news_md"
   ]
  },
  {
   "cell_type": "code",
   "execution_count": 1,
   "id": "ef843599",
   "metadata": {
    "tags": []
   },
   "outputs": [
    {
     "data": {
      "text/plain": [
       "'from shutil import copyfile\\n\\ncopyfile(src = \"/kaggle/input/trainer-am/stratification.py\", dst = \"../working/stratification.py\")\\ncopyfile(src = \"/kaggle/input/trainer-am/kfold.py\", dst = \"../working/kfold.py\")\\ncopyfile(src = \"/kaggle/input/trainer-am/trainer.py\", dst = \"../working/trainer.py\")\\ncopyfile(src = \"/kaggle/input/trainer-am/visualizations.py\", dst = \"../working/visualizations.py\")'"
      ]
     },
     "execution_count": 1,
     "metadata": {},
     "output_type": "execute_result"
    }
   ],
   "source": [
    "'''from shutil import copyfile\n",
    "\n",
    "copyfile(src = \"/kaggle/input/trainer-am/stratification.py\", dst = \"../working/stratification.py\")\n",
    "copyfile(src = \"/kaggle/input/trainer-am/kfold.py\", dst = \"../working/kfold.py\")\n",
    "copyfile(src = \"/kaggle/input/trainer-am/trainer.py\", dst = \"../working/trainer.py\")\n",
    "copyfile(src = \"/kaggle/input/trainer-am/visualizations.py\", dst = \"../working/visualizations.py\")'''"
   ]
  },
  {
   "cell_type": "code",
   "execution_count": 2,
   "id": "e9693ef9",
   "metadata": {
    "tags": []
   },
   "outputs": [],
   "source": [
    "from trainer import Trainer"
   ]
  },
  {
   "cell_type": "code",
   "execution_count": 3,
   "id": "1459547f",
   "metadata": {
    "tags": []
   },
   "outputs": [],
   "source": [
    "from sklearn.ensemble import RandomForestClassifier\n",
    "from sklearn.tree import DecisionTreeClassifier\n",
    "from sklearn.neighbors import KNeighborsClassifier"
   ]
  },
  {
   "cell_type": "code",
   "execution_count": 4,
   "id": "3fbbd4d1",
   "metadata": {
    "tags": []
   },
   "outputs": [],
   "source": [
    "import matplotlib.pyplot as plt"
   ]
  },
  {
   "cell_type": "markdown",
   "id": "a5ae856e",
   "metadata": {},
   "source": [
    "# Setup"
   ]
  },
  {
   "cell_type": "code",
   "execution_count": 5,
   "id": "df0012a2",
   "metadata": {
    "tags": []
   },
   "outputs": [],
   "source": [
    "path = \"data/iliad_sentiments.csv\"\n",
    "target = \"class\""
   ]
  },
  {
   "cell_type": "code",
   "execution_count": 6,
   "id": "d67e17d1",
   "metadata": {
    "tags": []
   },
   "outputs": [],
   "source": [
    "scenarios = {\n",
    "    \"TF-IDF sem lematização\": {\"lemmatize\": False, \"sbert\": False},\n",
    "#    \"TF-IDF com lematização\": {\"lemmatize\": True, \"sbert\": False},\n",
    "#    \"SBERT sem lematização\": {\"lemmatize\": False, \"sbert\": True},\n",
    "           }\n",
    "\n",
    "classifiers = {\n",
    "    \"Decision Tree\": DecisionTreeClassifier(), \n",
    "    \"KNN\": KNeighborsClassifier(),\n",
    "    \"Random Forest\": RandomForestClassifier()\n",
    "}\n",
    "\n",
    "STANDARD = \"Sem modificação\"\n",
    "WITHOUT_NARRATOR = \"Sem narrador\"\n",
    "MERGE_NARRATOR_NEUTRAL = \"Junção de narrador e neutro\"\n",
    "\n",
    "data_operations = [STANDARD, WITHOUT_NARRATOR, MERGE_NARRATOR_NEUTRAL]\n",
    "\n",
    "nro_folds = 5"
   ]
  },
  {
   "cell_type": "markdown",
   "id": "cb862c0b",
   "metadata": {},
   "source": [
    "# Trainer"
   ]
  },
  {
   "cell_type": "code",
   "execution_count": 7,
   "id": "89e38e63",
   "metadata": {
    "tags": []
   },
   "outputs": [
    {
     "name": "stdout",
     "output_type": "stream",
     "text": [
      "Decision Tree : TF-IDF sem lematização : Sem modificação\n",
      "{'accuracy': [0.3709677419354839, 0.43089430894308944, 0.4426229508196721, 0.39344262295081966, 0.43333333333333335], 'recall': [0.41866134751773043, 0.4135655024755788, 0.3522610746513536, 0.3088956111566858, 0.4113441931325442], 'precision': [0.4108542050759032, 0.4140965640965641, 0.3931752873563218, 0.3333333333333333, 0.46895424836601307], 'f1': [0.4147210370983073, 0.41383086291071136, 0.37159536698068024, 0.32064952725124474, 0.43826411093450185]}\n",
      "=======================\n",
      "Decision Tree : TF-IDF sem lematização : Sem narrador\n",
      "{'accuracy': [0.4224137931034483, 0.391304347826087, 0.43859649122807015, 0.3333333333333333, 0.36283185840707965], 'recall': [0.4001838718150775, 0.32933672331504527, 0.33743505605687724, 0.29382918603591285, 0.2916520176569397], 'precision': [0.3867031661149308, 0.3412892696858425, 0.3143399810066477, 0.291911045943304, 0.29060337685674614], 'f1': [0.3933280453217656, 0.3352064815679502, 0.32547834169831175, 0.29286697529582134, 0.2911267529568517]}\n",
      "=======================\n",
      "Decision Tree : TF-IDF sem lematização : Junção de narrador e neutro\n",
      "{'accuracy': [0.4032258064516129, 0.4634146341463415, 0.39344262295081966, 0.47107438016528924, 0.4380165289256198], 'recall': [0.38251047840933744, 0.460597280645105, 0.34618539786710417, 0.4640912819747931, 0.4363114326198822], 'precision': [0.3927996807867063, 0.46438064859117495, 0.3847152126892574, 0.47350498338870434, 0.4309035756962956], 'f1': [0.387586805189189, 0.4624812272048662, 0.3644347454272324, 0.4687508747213749, 0.43359064275911313]}\n",
      "=======================\n"
     ]
    },
    {
     "ename": "IndexError",
     "evalue": "index 4976 is out of bounds for axis 0 with size 488",
     "output_type": "error",
     "traceback": [
      "\u001b[0;31m---------------------------------------------------------------------------\u001b[0m",
      "\u001b[0;31mIndexError\u001b[0m                                Traceback (most recent call last)",
      "Input \u001b[0;32mIn [7]\u001b[0m, in \u001b[0;36m<module>\u001b[0;34m\u001b[0m\n\u001b[1;32m     20\u001b[0m     trainer\u001b[38;5;241m.\u001b[39mmerge_class([\u001b[38;5;124m\"\u001b[39m\u001b[38;5;124mnarrator\u001b[39m\u001b[38;5;124m\"\u001b[39m], \u001b[38;5;124m\"\u001b[39m\u001b[38;5;124mneutral\u001b[39m\u001b[38;5;124m\"\u001b[39m)\n\u001b[1;32m     21\u001b[0m     trainer\u001b[38;5;241m.\u001b[39mprepare_data_to_train(lemmatize\u001b[38;5;241m=\u001b[39mscenarios[scenario][\u001b[38;5;124m\"\u001b[39m\u001b[38;5;124mlemmatize\u001b[39m\u001b[38;5;124m\"\u001b[39m], sbert\u001b[38;5;241m=\u001b[39mscenarios[scenario][\u001b[38;5;124m\"\u001b[39m\u001b[38;5;124msbert\u001b[39m\u001b[38;5;124m\"\u001b[39m])\n\u001b[0;32m---> 23\u001b[0m metrics[classifier][scenario][operation] \u001b[38;5;241m=\u001b[39m \u001b[43mtrainer\u001b[49m\u001b[38;5;241;43m.\u001b[39;49m\u001b[43mcross_validation\u001b[49m\u001b[43m(\u001b[49m\u001b[43mmodel\u001b[49m\u001b[38;5;241;43m=\u001b[39;49m\u001b[43mclassifiers\u001b[49m\u001b[43m[\u001b[49m\u001b[43mclassifier\u001b[49m\u001b[43m]\u001b[49m\u001b[43m,\u001b[49m\u001b[43m \u001b[49m\u001b[43mnro_folds\u001b[49m\u001b[38;5;241;43m=\u001b[39;49m\u001b[43mnro_folds\u001b[49m\u001b[43m)\u001b[49m\n\u001b[1;32m     24\u001b[0m \u001b[38;5;28mprint\u001b[39m(\u001b[38;5;124mf\u001b[39m\u001b[38;5;124m\"\u001b[39m\u001b[38;5;132;01m{\u001b[39;00mclassifier\u001b[38;5;132;01m}\u001b[39;00m\u001b[38;5;124m : \u001b[39m\u001b[38;5;132;01m{\u001b[39;00mscenario\u001b[38;5;132;01m}\u001b[39;00m\u001b[38;5;124m : \u001b[39m\u001b[38;5;132;01m{\u001b[39;00moperation\u001b[38;5;132;01m}\u001b[39;00m\u001b[38;5;124m\"\u001b[39m)\n\u001b[1;32m     25\u001b[0m \u001b[38;5;28mprint\u001b[39m(metrics[classifier][scenario][operation])\n",
      "File \u001b[0;32m~/Área de Trabalho/MachineLearning/trainer.py:174\u001b[0m, in \u001b[0;36mTrainer.cross_validation\u001b[0;34m(self, model, nro_folds, shuffle, seed)\u001b[0m\n\u001b[1;32m    171\u001b[0m     model_pipeline \u001b[38;5;241m=\u001b[39m Pipeline([(\u001b[38;5;124m'\u001b[39m\u001b[38;5;124mclf\u001b[39m\u001b[38;5;124m'\u001b[39m, model),])\n\u001b[1;32m    173\u001b[0m model_pipeline\u001b[38;5;241m.\u001b[39mfit(X_train, y_train)\n\u001b[0;32m--> 174\u001b[0m predicted \u001b[38;5;241m=\u001b[39m \u001b[43mmodel_pipeline\u001b[49m\u001b[38;5;241;43m.\u001b[39;49m\u001b[43mpredict\u001b[49m\u001b[43m(\u001b[49m\u001b[43mX_test\u001b[49m\u001b[43m)\u001b[49m\n\u001b[1;32m    176\u001b[0m cm \u001b[38;5;241m=\u001b[39m build_matrix(y_test, predicted)\n\u001b[1;32m    178\u001b[0m accuracy \u001b[38;5;241m=\u001b[39m accuracy_score(cm)\n",
      "File \u001b[0;32m/usr/local/lib/python3.8/dist-packages/sklearn/pipeline.py:481\u001b[0m, in \u001b[0;36mPipeline.predict\u001b[0;34m(self, X, **predict_params)\u001b[0m\n\u001b[1;32m    479\u001b[0m \u001b[38;5;28;01mfor\u001b[39;00m _, name, transform \u001b[38;5;129;01min\u001b[39;00m \u001b[38;5;28mself\u001b[39m\u001b[38;5;241m.\u001b[39m_iter(with_final\u001b[38;5;241m=\u001b[39m\u001b[38;5;28;01mFalse\u001b[39;00m):\n\u001b[1;32m    480\u001b[0m     Xt \u001b[38;5;241m=\u001b[39m transform\u001b[38;5;241m.\u001b[39mtransform(Xt)\n\u001b[0;32m--> 481\u001b[0m \u001b[38;5;28;01mreturn\u001b[39;00m \u001b[38;5;28;43mself\u001b[39;49m\u001b[38;5;241;43m.\u001b[39;49m\u001b[43msteps\u001b[49m\u001b[43m[\u001b[49m\u001b[38;5;241;43m-\u001b[39;49m\u001b[38;5;241;43m1\u001b[39;49m\u001b[43m]\u001b[49m\u001b[43m[\u001b[49m\u001b[38;5;241;43m1\u001b[39;49m\u001b[43m]\u001b[49m\u001b[38;5;241;43m.\u001b[39;49m\u001b[43mpredict\u001b[49m\u001b[43m(\u001b[49m\u001b[43mXt\u001b[49m\u001b[43m,\u001b[49m\u001b[43m \u001b[49m\u001b[38;5;241;43m*\u001b[39;49m\u001b[38;5;241;43m*\u001b[39;49m\u001b[43mpredict_params\u001b[49m\u001b[43m)\u001b[49m\n",
      "File \u001b[0;32m/usr/local/lib/python3.8/dist-packages/sklearn/neighbors/_classification.py:252\u001b[0m, in \u001b[0;36mKNeighborsClassifier.predict\u001b[0;34m(self, X)\u001b[0m\n\u001b[1;32m    250\u001b[0m \u001b[38;5;28;01mfor\u001b[39;00m k, classes_k \u001b[38;5;129;01min\u001b[39;00m \u001b[38;5;28menumerate\u001b[39m(classes_):\n\u001b[1;32m    251\u001b[0m     \u001b[38;5;28;01mif\u001b[39;00m weights \u001b[38;5;129;01mis\u001b[39;00m \u001b[38;5;28;01mNone\u001b[39;00m:\n\u001b[0;32m--> 252\u001b[0m         mode, _ \u001b[38;5;241m=\u001b[39m _mode(\u001b[43m_y\u001b[49m\u001b[43m[\u001b[49m\u001b[43mneigh_ind\u001b[49m\u001b[43m,\u001b[49m\u001b[43m \u001b[49m\u001b[43mk\u001b[49m\u001b[43m]\u001b[49m, axis\u001b[38;5;241m=\u001b[39m\u001b[38;5;241m1\u001b[39m)\n\u001b[1;32m    253\u001b[0m     \u001b[38;5;28;01melse\u001b[39;00m:\n\u001b[1;32m    254\u001b[0m         mode, _ \u001b[38;5;241m=\u001b[39m weighted_mode(_y[neigh_ind, k], weights, axis\u001b[38;5;241m=\u001b[39m\u001b[38;5;241m1\u001b[39m)\n",
      "\u001b[0;31mIndexError\u001b[0m: index 4976 is out of bounds for axis 0 with size 488"
     ]
    }
   ],
   "source": [
    "metrics = {}\n",
    "\n",
    "for classifier in classifiers:  \n",
    "    metrics[classifier] = {}\n",
    "        \n",
    "    for scenario in scenarios: \n",
    "        metrics[classifier][scenario] = {}\n",
    "\n",
    "for classifier in classifiers:       \n",
    "    for scenario in scenarios: \n",
    "        for operation in data_operations:\n",
    "            trainer = Trainer(path, target)\n",
    "\n",
    "            if operation == STANDARD:\n",
    "                trainer.prepare_data_to_train(lemmatize=scenarios[scenario][\"lemmatize\"], sbert=scenarios[scenario][\"sbert\"])\n",
    "            if operation == WITHOUT_NARRATOR:\n",
    "                trainer.remove_class([\"narrator\"])\n",
    "                trainer.prepare_data_to_train(lemmatize=scenarios[scenario][\"lemmatize\"], sbert=scenarios[scenario][\"sbert\"])\n",
    "            elif operation == MERGE_NARRATOR_NEUTRAL:\n",
    "                trainer.merge_class([\"narrator\"], \"neutral\")\n",
    "                trainer.prepare_data_to_train(lemmatize=scenarios[scenario][\"lemmatize\"], sbert=scenarios[scenario][\"sbert\"])\n",
    "                \n",
    "            metrics[classifier][scenario][operation] = trainer.cross_validation(model=classifiers[classifier], nro_folds=nro_folds)\n",
    "            print(f\"{classifier} : {scenario} : {operation}\")\n",
    "            print(metrics[classifier][scenario][operation])\n",
    "            print(\"=======================\")\n"
   ]
  },
  {
   "cell_type": "markdown",
   "id": "796e5540",
   "metadata": {},
   "source": [
    "# Visualizations "
   ]
  },
  {
   "cell_type": "code",
   "execution_count": null,
   "id": "9ad7fe64",
   "metadata": {
    "tags": []
   },
   "outputs": [],
   "source": [
    "from visualizations import compare_boxplot"
   ]
  },
  {
   "cell_type": "code",
   "execution_count": null,
   "id": "9275e6a1",
   "metadata": {
    "tags": []
   },
   "outputs": [],
   "source": [
    "compare_boxplot(metrics, data_operations, width=14, height=10)"
   ]
  },
  {
   "cell_type": "code",
   "execution_count": null,
   "id": "c7734c23",
   "metadata": {},
   "outputs": [],
   "source": [
    "metrics"
   ]
  },
  {
   "cell_type": "code",
   "execution_count": null,
   "id": "d1e96390",
   "metadata": {},
   "outputs": [],
   "source": [
    "data_operations"
   ]
  },
  {
   "cell_type": "code",
   "execution_count": null,
   "id": "64eac093",
   "metadata": {},
   "outputs": [],
   "source": []
  }
 ],
 "metadata": {
  "kernelspec": {
   "display_name": "Python 3 (ipykernel)",
   "language": "python",
   "name": "python3"
  },
  "language_info": {
   "codemirror_mode": {
    "name": "ipython",
    "version": 3
   },
   "file_extension": ".py",
   "mimetype": "text/x-python",
   "name": "python",
   "nbconvert_exporter": "python",
   "pygments_lexer": "ipython3",
   "version": "3.8.10"
  }
 },
 "nbformat": 4,
 "nbformat_minor": 5
}
